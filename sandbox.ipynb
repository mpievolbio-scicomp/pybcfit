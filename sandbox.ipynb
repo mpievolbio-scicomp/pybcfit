{
 "cells": [
  {
   "cell_type": "code",
   "execution_count": 19,
   "metadata": {},
   "outputs": [],
   "source": [
    "%matplotlib inline"
   ]
  },
  {
   "cell_type": "code",
   "execution_count": 20,
   "metadata": {},
   "outputs": [
    {
     "name": "stdout",
     "output_type": "stream",
     "text": [
      "The autoreload extension is already loaded. To reload it, use:\n",
      "  %reload_ext autoreload\n"
     ]
    }
   ],
   "source": [
    "%load_ext autoreload"
   ]
  },
  {
   "cell_type": "code",
   "execution_count": 21,
   "metadata": {},
   "outputs": [],
   "source": [
    "%autoreload 2"
   ]
  },
  {
   "cell_type": "code",
   "execution_count": 26,
   "metadata": {},
   "outputs": [],
   "source": [
    "import pandas\n",
    "import os\n",
    "import numpy\n",
    "from matplotlib import pyplot\n",
    "import plotnine as p9"
   ]
  },
  {
   "cell_type": "code",
   "execution_count": 22,
   "metadata": {},
   "outputs": [],
   "source": [
    "import matplotlib"
   ]
  },
  {
   "cell_type": "code",
   "execution_count": 23,
   "metadata": {},
   "outputs": [
    {
     "data": {
      "text/plain": [
       "'3.3.2'"
      ]
     },
     "execution_count": 23,
     "metadata": {},
     "output_type": "execute_result"
    }
   ],
   "source": [
    "matplotlib.__version__"
   ]
  },
  {
   "cell_type": "code",
   "execution_count": 24,
   "metadata": {},
   "outputs": [],
   "source": [
    "from bcfit import inferFitness"
   ]
  },
  {
   "cell_type": "code",
   "execution_count": 25,
   "metadata": {},
   "outputs": [
    {
     "data": {
      "text/plain": [
       "\u001b[0;31mSignature:\u001b[0m\n",
       "\u001b[0minferFitness\u001b[0m\u001b[0;34m(\u001b[0m\u001b[0;34m\u001b[0m\n",
       "\u001b[0;34m\u001b[0m    \u001b[0mbarcodes\u001b[0m\u001b[0;34m,\u001b[0m\u001b[0;34m\u001b[0m\n",
       "\u001b[0;34m\u001b[0m    \u001b[0mcycleTimes\u001b[0m\u001b[0;34m,\u001b[0m\u001b[0;34m\u001b[0m\n",
       "\u001b[0;34m\u001b[0m    \u001b[0mallReads\u001b[0m\u001b[0;34m,\u001b[0m\u001b[0;34m\u001b[0m\n",
       "\u001b[0;34m\u001b[0m    \u001b[0moutputFolder\u001b[0m\u001b[0;34m=\u001b[0m\u001b[0;32mNone\u001b[0m\u001b[0;34m,\u001b[0m\u001b[0;34m\u001b[0m\n",
       "\u001b[0;34m\u001b[0m    \u001b[0mexperimentName\u001b[0m\u001b[0;34m=\u001b[0m\u001b[0;32mNone\u001b[0m\u001b[0;34m,\u001b[0m\u001b[0;34m\u001b[0m\n",
       "\u001b[0;34m\u001b[0m    \u001b[0mneutralBarcodes\u001b[0m\u001b[0;34m=\u001b[0m\u001b[0;32mNone\u001b[0m\u001b[0;34m,\u001b[0m\u001b[0;34m\u001b[0m\n",
       "\u001b[0;34m\u001b[0m    \u001b[0mmultNoiseThresh\u001b[0m\u001b[0;34m=\u001b[0m\u001b[0;36m3000.0\u001b[0m\u001b[0;34m,\u001b[0m\u001b[0;34m\u001b[0m\n",
       "\u001b[0;34m\u001b[0m    \u001b[0mzCutoff\u001b[0m\u001b[0;34m=\u001b[0m\u001b[0;36m2.7\u001b[0m\u001b[0;34m,\u001b[0m\u001b[0;34m\u001b[0m\n",
       "\u001b[0;34m\u001b[0m    \u001b[0mmultNoiseBase\u001b[0m\u001b[0;34m=\u001b[0m\u001b[0;36m0.1\u001b[0m\u001b[0;34m,\u001b[0m\u001b[0;34m\u001b[0m\n",
       "\u001b[0;34m\u001b[0m    \u001b[0mlowCoverageThresh\u001b[0m\u001b[0;34m=\u001b[0m\u001b[0;36m500000.0\u001b[0m\u001b[0;34m,\u001b[0m\u001b[0;34m\u001b[0m\n",
       "\u001b[0;34m\u001b[0m    \u001b[0msparsityThresh\u001b[0m\u001b[0;34m=\u001b[0m\u001b[0;32mNone\u001b[0m\u001b[0;34m,\u001b[0m\u001b[0;34m\u001b[0m\n",
       "\u001b[0;34m\u001b[0m\u001b[0;34m)\u001b[0m\u001b[0;34m\u001b[0m\u001b[0;34m\u001b[0m\u001b[0m\n",
       "\u001b[0;31mDocstring:\u001b[0m\n",
       "inferFitness - main fitness inference function. Expects barcodes, cycle times, and reads; returns dictionary of\n",
       "fitness inference data for all replicates. See Venkataram et. al. Cell 2016 for details of fitness assay algorithm.\n",
       "All fitnesses reported per cycle.\n",
       "\n",
       "Required parameters:\n",
       "\n",
       ":param barcodes: N x 1 list of all barcodes\n",
       ":param cycleTimes: 1 x q list of cycle times\n",
       ":param allReads: dictionary of length r, where key is replicate name, and value is N x q matrix of reads\n",
       "\n",
       "Optional parameters:\n",
       ":param outputFolder: folder to save fitness data output. Saved in tab separated column formats.\n",
       ":param experimentName: name of experiment, used in saving fitness files\n",
       ":param neutralBarcodes: list of putatively neutral (ie reference strain) barcodes\n",
       ":param multNoiseThresh: read threshold used to compute multiplicative noise coefficient\n",
       ":param zCutoff: cutoff used to establish neutrals\n",
       ":param multNoiseBase: default value of multiplicative noise, used if only 1 replicate exists\n",
       ":param lowCoverageThresh: threshold by which low coverage points are tossed out\n",
       ":param sparsityThresh: Remove timepoints where >sparsityThresh lineages have zero reads. Optional.\n",
       "\n",
       ":return repFitnessData: dictionary with same keys as allReads. values are dictionaries, with key value pairs:\n",
       "neutralBarcodes - N_{neut} x 1 list of barcodes which were assumed to be neutral.\n",
       "timePointsUsed - 1 x q list of timepoints used in inference\n",
       "multNoiseParams - 1 x q-1 list of multiplicative noise parameters\n",
       "kappas - 1 x q-1 list of additive noise parameters\n",
       "meanFitnesses - 1 x q-1 list of mean fitnesses\n",
       "allTimeFitness - N x q-1 list of fitnesses\n",
       "allTimeErrors - N x q-1 list of errors\n",
       "aveFitness - N x 1 list of overall fitness estimates\n",
       "aveError - N x 1 list of overall error estimates\n",
       "\u001b[0;31mFile:\u001b[0m      ~/Repositories/pybcfit/bcfit.py\n",
       "\u001b[0;31mType:\u001b[0m      function\n"
      ]
     },
     "metadata": {},
     "output_type": "display_data"
    }
   ],
   "source": [
    "inferFitness?"
   ]
  },
  {
   "cell_type": "markdown",
   "metadata": {},
   "source": [
    "## Load data"
   ]
  },
  {
   "cell_type": "code",
   "execution_count": 27,
   "metadata": {},
   "outputs": [],
   "source": [
    "# Common part of all paths to be defined.\n",
    "data_root_path = '/home/grotec/Repositories/lineage-tracking/'"
   ]
  },
  {
   "cell_type": "code",
   "execution_count": 28,
   "metadata": {},
   "outputs": [],
   "source": [
    "# Location of experimental data (bartender output.)\n",
    "path_to_experimental_data = os.path.join(\n",
    "    data_root_path,\n",
    "    'data/barcode_frequencies/LTtest/experimental_cluster.txt'\n",
    ")"
   ]
  },
  {
   "cell_type": "code",
   "execution_count": 124,
   "metadata": {},
   "outputs": [],
   "source": [
    "# Read in the data.\n",
    "raw = pandas.read_csv(path_to_experimental_data, index_col=0)"
   ]
  },
  {
   "cell_type": "code",
   "execution_count": 125,
   "metadata": {},
   "outputs": [
    {
     "data": {
      "text/html": [
       "<div>\n",
       "<style scoped>\n",
       "    .dataframe tbody tr th:only-of-type {\n",
       "        vertical-align: middle;\n",
       "    }\n",
       "\n",
       "    .dataframe tbody tr th {\n",
       "        vertical-align: top;\n",
       "    }\n",
       "\n",
       "    .dataframe thead th {\n",
       "        text-align: right;\n",
       "    }\n",
       "</style>\n",
       "<table border=\"1\" class=\"dataframe\">\n",
       "  <thead>\n",
       "    <tr style=\"text-align: right;\">\n",
       "      <th></th>\n",
       "      <th>Center</th>\n",
       "      <th>Cluster.Score</th>\n",
       "      <th>time_point_1</th>\n",
       "      <th>time_point_2</th>\n",
       "      <th>time_point_3</th>\n",
       "      <th>time_point_4</th>\n",
       "      <th>time_point_5</th>\n",
       "      <th>time_point_6</th>\n",
       "      <th>time_point_7</th>\n",
       "      <th>time_point_8</th>\n",
       "      <th>time_point_9</th>\n",
       "      <th>time_point_10</th>\n",
       "    </tr>\n",
       "    <tr>\n",
       "      <th>Cluster.ID</th>\n",
       "      <th></th>\n",
       "      <th></th>\n",
       "      <th></th>\n",
       "      <th></th>\n",
       "      <th></th>\n",
       "      <th></th>\n",
       "      <th></th>\n",
       "      <th></th>\n",
       "      <th></th>\n",
       "      <th></th>\n",
       "      <th></th>\n",
       "      <th></th>\n",
       "    </tr>\n",
       "  </thead>\n",
       "  <tbody>\n",
       "    <tr>\n",
       "      <th>1</th>\n",
       "      <td>ATGTGT</td>\n",
       "      <td>0.088880</td>\n",
       "      <td>12</td>\n",
       "      <td>13</td>\n",
       "      <td>12</td>\n",
       "      <td>2</td>\n",
       "      <td>2</td>\n",
       "      <td>1</td>\n",
       "      <td>8</td>\n",
       "      <td>0</td>\n",
       "      <td>8</td>\n",
       "      <td>31</td>\n",
       "    </tr>\n",
       "    <tr>\n",
       "      <th>2</th>\n",
       "      <td>AGGGAC</td>\n",
       "      <td>0.000000</td>\n",
       "      <td>18</td>\n",
       "      <td>8</td>\n",
       "      <td>7</td>\n",
       "      <td>0</td>\n",
       "      <td>0</td>\n",
       "      <td>0</td>\n",
       "      <td>0</td>\n",
       "      <td>0</td>\n",
       "      <td>0</td>\n",
       "      <td>1</td>\n",
       "    </tr>\n",
       "    <tr>\n",
       "      <th>3</th>\n",
       "      <td>TTACTT</td>\n",
       "      <td>0.036041</td>\n",
       "      <td>93</td>\n",
       "      <td>100</td>\n",
       "      <td>45</td>\n",
       "      <td>11</td>\n",
       "      <td>5</td>\n",
       "      <td>0</td>\n",
       "      <td>4</td>\n",
       "      <td>2</td>\n",
       "      <td>2</td>\n",
       "      <td>1</td>\n",
       "    </tr>\n",
       "    <tr>\n",
       "      <th>4</th>\n",
       "      <td>ATTCCG</td>\n",
       "      <td>0.000000</td>\n",
       "      <td>117</td>\n",
       "      <td>131</td>\n",
       "      <td>63</td>\n",
       "      <td>13</td>\n",
       "      <td>0</td>\n",
       "      <td>3</td>\n",
       "      <td>7</td>\n",
       "      <td>0</td>\n",
       "      <td>2</td>\n",
       "      <td>4</td>\n",
       "    </tr>\n",
       "    <tr>\n",
       "      <th>5</th>\n",
       "      <td>GCAGGC</td>\n",
       "      <td>0.802353</td>\n",
       "      <td>12</td>\n",
       "      <td>14</td>\n",
       "      <td>15</td>\n",
       "      <td>2</td>\n",
       "      <td>0</td>\n",
       "      <td>1</td>\n",
       "      <td>0</td>\n",
       "      <td>0</td>\n",
       "      <td>0</td>\n",
       "      <td>1</td>\n",
       "    </tr>\n",
       "  </tbody>\n",
       "</table>\n",
       "</div>"
      ],
      "text/plain": [
       "            Center  Cluster.Score  time_point_1  time_point_2  time_point_3  \\\n",
       "Cluster.ID                                                                    \n",
       "1           ATGTGT       0.088880            12            13            12   \n",
       "2           AGGGAC       0.000000            18             8             7   \n",
       "3           TTACTT       0.036041            93           100            45   \n",
       "4           ATTCCG       0.000000           117           131            63   \n",
       "5           GCAGGC       0.802353            12            14            15   \n",
       "\n",
       "            time_point_4  time_point_5  time_point_6  time_point_7  \\\n",
       "Cluster.ID                                                           \n",
       "1                      2             2             1             8   \n",
       "2                      0             0             0             0   \n",
       "3                     11             5             0             4   \n",
       "4                     13             0             3             7   \n",
       "5                      2             0             1             0   \n",
       "\n",
       "            time_point_8  time_point_9  time_point_10  \n",
       "Cluster.ID                                             \n",
       "1                      0             8             31  \n",
       "2                      0             0              1  \n",
       "3                      2             2              1  \n",
       "4                      0             2              4  \n",
       "5                      0             0              1  "
      ]
     },
     "execution_count": 125,
     "metadata": {},
     "output_type": "execute_result"
    }
   ],
   "source": [
    "raw.head()"
   ]
  },
  {
   "cell_type": "markdown",
   "metadata": {},
   "source": [
    "### Drop the cluster score"
   ]
  },
  {
   "cell_type": "code",
   "execution_count": 126,
   "metadata": {},
   "outputs": [],
   "source": [
    "del raw[\"Cluster.Score\"]"
   ]
  },
  {
   "cell_type": "code",
   "execution_count": 127,
   "metadata": {},
   "outputs": [],
   "source": [
    "# Reindex\n",
    "raw.rename(axis=1, mapper={\"Center\":\"barcode\"}, inplace=True)"
   ]
  },
  {
   "cell_type": "code",
   "execution_count": 128,
   "metadata": {},
   "outputs": [],
   "source": [
    "raw = raw.set_index(\"barcode\")"
   ]
  },
  {
   "cell_type": "code",
   "execution_count": 130,
   "metadata": {},
   "outputs": [
    {
     "data": {
      "text/plain": [
       "True"
      ]
     },
     "execution_count": 130,
     "metadata": {},
     "output_type": "execute_result"
    }
   ],
   "source": [
    "# Unique barcodes?\n",
    "raw.index.is_unique"
   ]
  },
  {
   "cell_type": "markdown",
   "metadata": {},
   "source": [
    "### Sort by total abundance"
   ]
  },
  {
   "cell_type": "code",
   "execution_count": 150,
   "metadata": {},
   "outputs": [
    {
     "data": {
      "text/html": [
       "<div>\n",
       "<style scoped>\n",
       "    .dataframe tbody tr th:only-of-type {\n",
       "        vertical-align: middle;\n",
       "    }\n",
       "\n",
       "    .dataframe tbody tr th {\n",
       "        vertical-align: top;\n",
       "    }\n",
       "\n",
       "    .dataframe thead th {\n",
       "        text-align: right;\n",
       "    }\n",
       "</style>\n",
       "<table border=\"1\" class=\"dataframe\">\n",
       "  <thead>\n",
       "    <tr style=\"text-align: right;\">\n",
       "      <th></th>\n",
       "      <th>time_point_1</th>\n",
       "      <th>time_point_2</th>\n",
       "      <th>time_point_3</th>\n",
       "      <th>time_point_4</th>\n",
       "      <th>time_point_5</th>\n",
       "      <th>time_point_6</th>\n",
       "      <th>time_point_7</th>\n",
       "      <th>time_point_8</th>\n",
       "      <th>time_point_9</th>\n",
       "      <th>time_point_10</th>\n",
       "    </tr>\n",
       "    <tr>\n",
       "      <th>barcode</th>\n",
       "      <th></th>\n",
       "      <th></th>\n",
       "      <th></th>\n",
       "      <th></th>\n",
       "      <th></th>\n",
       "      <th></th>\n",
       "      <th></th>\n",
       "      <th></th>\n",
       "      <th></th>\n",
       "      <th></th>\n",
       "    </tr>\n",
       "  </thead>\n",
       "  <tbody>\n",
       "    <tr>\n",
       "      <th>ACGTTGTCC</th>\n",
       "      <td>73</td>\n",
       "      <td>51</td>\n",
       "      <td>242</td>\n",
       "      <td>421</td>\n",
       "      <td>576</td>\n",
       "      <td>748</td>\n",
       "      <td>990</td>\n",
       "      <td>4031</td>\n",
       "      <td>6936</td>\n",
       "      <td>6892</td>\n",
       "    </tr>\n",
       "    <tr>\n",
       "      <th>AAAAAGCCAAGGC</th>\n",
       "      <td>116</td>\n",
       "      <td>336</td>\n",
       "      <td>588</td>\n",
       "      <td>2089</td>\n",
       "      <td>3049</td>\n",
       "      <td>2415</td>\n",
       "      <td>2079</td>\n",
       "      <td>3291</td>\n",
       "      <td>2233</td>\n",
       "      <td>2494</td>\n",
       "    </tr>\n",
       "    <tr>\n",
       "      <th>TTTACTC</th>\n",
       "      <td>118</td>\n",
       "      <td>158</td>\n",
       "      <td>519</td>\n",
       "      <td>6284</td>\n",
       "      <td>438</td>\n",
       "      <td>2550</td>\n",
       "      <td>1295</td>\n",
       "      <td>2818</td>\n",
       "      <td>262</td>\n",
       "      <td>331</td>\n",
       "    </tr>\n",
       "    <tr>\n",
       "      <th>ACTATCACTATTACAAAA</th>\n",
       "      <td>86</td>\n",
       "      <td>282</td>\n",
       "      <td>1017</td>\n",
       "      <td>1583</td>\n",
       "      <td>1315</td>\n",
       "      <td>2628</td>\n",
       "      <td>1865</td>\n",
       "      <td>1079</td>\n",
       "      <td>689</td>\n",
       "      <td>707</td>\n",
       "    </tr>\n",
       "    <tr>\n",
       "      <th>TGGACATCGGCC</th>\n",
       "      <td>849</td>\n",
       "      <td>806</td>\n",
       "      <td>879</td>\n",
       "      <td>748</td>\n",
       "      <td>683</td>\n",
       "      <td>1325</td>\n",
       "      <td>590</td>\n",
       "      <td>855</td>\n",
       "      <td>1448</td>\n",
       "      <td>766</td>\n",
       "    </tr>\n",
       "  </tbody>\n",
       "</table>\n",
       "</div>"
      ],
      "text/plain": [
       "                    time_point_1  time_point_2  time_point_3  time_point_4  \\\n",
       "barcode                                                                      \n",
       "ACGTTGTCC                     73            51           242           421   \n",
       "AAAAAGCCAAGGC                116           336           588          2089   \n",
       "TTTACTC                      118           158           519          6284   \n",
       "ACTATCACTATTACAAAA            86           282          1017          1583   \n",
       "TGGACATCGGCC                 849           806           879           748   \n",
       "\n",
       "                    time_point_5  time_point_6  time_point_7  time_point_8  \\\n",
       "barcode                                                                      \n",
       "ACGTTGTCC                    576           748           990          4031   \n",
       "AAAAAGCCAAGGC               3049          2415          2079          3291   \n",
       "TTTACTC                      438          2550          1295          2818   \n",
       "ACTATCACTATTACAAAA          1315          2628          1865          1079   \n",
       "TGGACATCGGCC                 683          1325           590           855   \n",
       "\n",
       "                    time_point_9  time_point_10  \n",
       "barcode                                          \n",
       "ACGTTGTCC                   6936           6892  \n",
       "AAAAAGCCAAGGC               2233           2494  \n",
       "TTTACTC                      262            331  \n",
       "ACTATCACTATTACAAAA           689            707  \n",
       "TGGACATCGGCC                1448            766  "
      ]
     },
     "execution_count": 150,
     "metadata": {},
     "output_type": "execute_result"
    }
   ],
   "source": [
    "raw.head()"
   ]
  },
  {
   "cell_type": "code",
   "execution_count": 244,
   "metadata": {},
   "outputs": [],
   "source": [
    "# Rename columns\n",
    "raw.columns = raw.columns.str.replace(\"time_point_\", \"\").astype(int)"
   ]
  },
  {
   "cell_type": "code",
   "execution_count": 245,
   "metadata": {},
   "outputs": [
    {
     "data": {
      "text/html": [
       "<div>\n",
       "<style scoped>\n",
       "    .dataframe tbody tr th:only-of-type {\n",
       "        vertical-align: middle;\n",
       "    }\n",
       "\n",
       "    .dataframe tbody tr th {\n",
       "        vertical-align: top;\n",
       "    }\n",
       "\n",
       "    .dataframe thead th {\n",
       "        text-align: right;\n",
       "    }\n",
       "</style>\n",
       "<table border=\"1\" class=\"dataframe\">\n",
       "  <thead>\n",
       "    <tr style=\"text-align: right;\">\n",
       "      <th></th>\n",
       "      <th>1</th>\n",
       "      <th>2</th>\n",
       "      <th>3</th>\n",
       "      <th>4</th>\n",
       "      <th>5</th>\n",
       "      <th>6</th>\n",
       "      <th>7</th>\n",
       "      <th>8</th>\n",
       "      <th>9</th>\n",
       "      <th>10</th>\n",
       "    </tr>\n",
       "    <tr>\n",
       "      <th>barcode</th>\n",
       "      <th></th>\n",
       "      <th></th>\n",
       "      <th></th>\n",
       "      <th></th>\n",
       "      <th></th>\n",
       "      <th></th>\n",
       "      <th></th>\n",
       "      <th></th>\n",
       "      <th></th>\n",
       "      <th></th>\n",
       "    </tr>\n",
       "  </thead>\n",
       "  <tbody>\n",
       "    <tr>\n",
       "      <th>ACGTTGTCC</th>\n",
       "      <td>73</td>\n",
       "      <td>51</td>\n",
       "      <td>242</td>\n",
       "      <td>421</td>\n",
       "      <td>576</td>\n",
       "      <td>748</td>\n",
       "      <td>990</td>\n",
       "      <td>4031</td>\n",
       "      <td>6936</td>\n",
       "      <td>6892</td>\n",
       "    </tr>\n",
       "    <tr>\n",
       "      <th>AAAAAGCCAAGGC</th>\n",
       "      <td>116</td>\n",
       "      <td>336</td>\n",
       "      <td>588</td>\n",
       "      <td>2089</td>\n",
       "      <td>3049</td>\n",
       "      <td>2415</td>\n",
       "      <td>2079</td>\n",
       "      <td>3291</td>\n",
       "      <td>2233</td>\n",
       "      <td>2494</td>\n",
       "    </tr>\n",
       "    <tr>\n",
       "      <th>TTTACTC</th>\n",
       "      <td>118</td>\n",
       "      <td>158</td>\n",
       "      <td>519</td>\n",
       "      <td>6284</td>\n",
       "      <td>438</td>\n",
       "      <td>2550</td>\n",
       "      <td>1295</td>\n",
       "      <td>2818</td>\n",
       "      <td>262</td>\n",
       "      <td>331</td>\n",
       "    </tr>\n",
       "    <tr>\n",
       "      <th>ACTATCACTATTACAAAA</th>\n",
       "      <td>86</td>\n",
       "      <td>282</td>\n",
       "      <td>1017</td>\n",
       "      <td>1583</td>\n",
       "      <td>1315</td>\n",
       "      <td>2628</td>\n",
       "      <td>1865</td>\n",
       "      <td>1079</td>\n",
       "      <td>689</td>\n",
       "      <td>707</td>\n",
       "    </tr>\n",
       "    <tr>\n",
       "      <th>TGGACATCGGCC</th>\n",
       "      <td>849</td>\n",
       "      <td>806</td>\n",
       "      <td>879</td>\n",
       "      <td>748</td>\n",
       "      <td>683</td>\n",
       "      <td>1325</td>\n",
       "      <td>590</td>\n",
       "      <td>855</td>\n",
       "      <td>1448</td>\n",
       "      <td>766</td>\n",
       "    </tr>\n",
       "  </tbody>\n",
       "</table>\n",
       "</div>"
      ],
      "text/plain": [
       "                     1    2     3     4     5     6     7     8     9     10\n",
       "barcode                                                                     \n",
       "ACGTTGTCC            73   51   242   421   576   748   990  4031  6936  6892\n",
       "AAAAAGCCAAGGC       116  336   588  2089  3049  2415  2079  3291  2233  2494\n",
       "TTTACTC             118  158   519  6284   438  2550  1295  2818   262   331\n",
       "ACTATCACTATTACAAAA   86  282  1017  1583  1315  2628  1865  1079   689   707\n",
       "TGGACATCGGCC        849  806   879   748   683  1325   590   855  1448   766"
      ]
     },
     "execution_count": 245,
     "metadata": {},
     "output_type": "execute_result"
    }
   ],
   "source": [
    "raw.head()"
   ]
  },
  {
   "cell_type": "code",
   "execution_count": 279,
   "metadata": {},
   "outputs": [],
   "source": [
    "coverage = raw.sum(axis=0)"
   ]
  },
  {
   "cell_type": "code",
   "execution_count": 280,
   "metadata": {},
   "outputs": [],
   "source": [
    "coverage.name=\"coverage\""
   ]
  },
  {
   "cell_type": "code",
   "execution_count": 281,
   "metadata": {},
   "outputs": [
    {
     "data": {
      "text/plain": [
       "1     131497\n",
       "2     133003\n",
       "3      81940\n",
       "4      27571\n",
       "5      16722\n",
       "6      17964\n",
       "7      19643\n",
       "8      19862\n",
       "9      18655\n",
       "10     19259\n",
       "Name: coverage, dtype: int64"
      ]
     },
     "execution_count": 281,
     "metadata": {},
     "output_type": "execute_result"
    }
   ],
   "source": [
    "coverage"
   ]
  },
  {
   "cell_type": "code",
   "execution_count": 274,
   "metadata": {},
   "outputs": [],
   "source": [
    "abundance = raw.sum(axis=1)"
   ]
  },
  {
   "cell_type": "code",
   "execution_count": 275,
   "metadata": {},
   "outputs": [],
   "source": [
    "abundance.name=\"abundance\""
   ]
  },
  {
   "cell_type": "code",
   "execution_count": 276,
   "metadata": {},
   "outputs": [
    {
     "data": {
      "text/plain": [
       "barcode\n",
       "ACGTTGTCC                    20960\n",
       "AAAAAGCCAAGGC                18690\n",
       "TTTACTC                      14773\n",
       "ACTATCACTATTACAAAA           11251\n",
       "TGGACATCGGCC                  8949\n",
       "                             ...  \n",
       "CTCACCTGTCGGGG                   1\n",
       "AATGCCCCCGCGGG                   1\n",
       "AAAGCCTCTTGCCC                   1\n",
       "CGAGGAATTACGGG                   1\n",
       "TAGCTCAGCTCATGCATGGTGCCCG        1\n",
       "Name: abundance, Length: 7222, dtype: int64"
      ]
     },
     "execution_count": 276,
     "metadata": {},
     "output_type": "execute_result"
    }
   ],
   "source": [
    "abundance"
   ]
  },
  {
   "cell_type": "code",
   "execution_count": 277,
   "metadata": {},
   "outputs": [],
   "source": [
    "raw = raw.sort_index(key=lambda m: abundance[m],ascending=False)"
   ]
  },
  {
   "cell_type": "code",
   "execution_count": null,
   "metadata": {},
   "outputs": [],
   "source": []
  },
  {
   "cell_type": "code",
   "execution_count": 278,
   "metadata": {},
   "outputs": [
    {
     "data": {
      "text/plain": [
       "<matplotlib.legend.Legend at 0x7f5bc8b21d90>"
      ]
     },
     "execution_count": 278,
     "metadata": {},
     "output_type": "execute_result"
    },
    {
     "data": {
      "image/png": "[encoded data removed]",
      "text/plain": [
       "<Figure size 432x288 with 1 Axes>"
      ]
     },
     "metadata": {
      "needs_background": "light"
     },
     "output_type": "display_data"
    }
   ],
   "source": [
    "# Plot some lineages\n",
    "raw.head(10).T.plot(style=\"-o\");\n",
    "pyplot.legend([])"
   ]
  },
  {
   "cell_type": "markdown",
   "metadata": {},
   "source": [
    "### Get the list of barcodes"
   ]
  },
  {
   "cell_type": "code",
   "execution_count": 152,
   "metadata": {},
   "outputs": [],
   "source": [
    "barcodes = raw.index.to_list()"
   ]
  },
  {
   "cell_type": "code",
   "execution_count": 153,
   "metadata": {},
   "outputs": [
    {
     "data": {
      "text/plain": [
       "['ACGTTGTCC',\n",
       " 'AAAAAGCCAAGGC',\n",
       " 'TTTACTC',\n",
       " 'ACTATCACTATTACAAAA',\n",
       " 'TGGACATCGGCC',\n",
       " 'TGGACAT',\n",
       " 'AAAATTAAAAATGACAAAA',\n",
       " 'ATCATCGGTGACGATTCC',\n",
       " 'CCGGACG',\n",
       " 'TTAGGGACACCTTCGCC']"
      ]
     },
     "execution_count": 153,
     "metadata": {},
     "output_type": "execute_result"
    }
   ],
   "source": [
    "barcodes[:10]"
   ]
  },
  {
   "cell_type": "markdown",
   "metadata": {},
   "source": [
    "### Cycle times (confirm this with Loukas)"
   ]
  },
  {
   "cell_type": "code",
   "execution_count": 246,
   "metadata": {},
   "outputs": [],
   "source": [
    "cycle_times = raw.columns.to_list()"
   ]
  },
  {
   "cell_type": "code",
   "execution_count": 247,
   "metadata": {},
   "outputs": [
    {
     "data": {
      "text/plain": [
       "[1, 2, 3, 4, 5, 6, 7, 8, 9, 10]"
      ]
     },
     "execution_count": 247,
     "metadata": {},
     "output_type": "execute_result"
    }
   ],
   "source": [
    "cycle_times"
   ]
  },
  {
   "cell_type": "markdown",
   "metadata": {},
   "source": [
    "## Setup the all_reads dict"
   ]
  },
  {
   "cell_type": "code",
   "execution_count": 156,
   "metadata": {},
   "outputs": [],
   "source": [
    "all_reads = {\"rep1\": raw.values}"
   ]
  },
  {
   "cell_type": "code",
   "execution_count": 157,
   "metadata": {},
   "outputs": [
    {
     "data": {
      "text/plain": [
       "(7222, 10)"
      ]
     },
     "execution_count": 157,
     "metadata": {},
     "output_type": "execute_result"
    }
   ],
   "source": [
    "all_reads['rep1'].shape"
   ]
  },
  {
   "cell_type": "code",
   "execution_count": 158,
   "metadata": {},
   "outputs": [
    {
     "name": "stderr",
     "output_type": "stream",
     "text": [
      "/home/grotec/Repositories/pybcfit/bcfit.py:224: RuntimeWarning: divide by zero encountered in power\n",
      "/home/grotec/Repositories/pybcfit/bcfit.py:224: RuntimeWarning: invalid value encountered in multiply\n"
     ]
    },
    {
     "name": "stdout",
     "output_type": "stream",
     "text": [
      "Multiplicative noise consistency checks\n",
      "\n",
      "rep1  inconsistent times:\n",
      "\n",
      "No clear inconsistencies\n",
      "\n"
     ]
    },
    {
     "name": "stderr",
     "output_type": "stream",
     "text": [
      "/home/grotec/Repositories/pybcfit/bcfit.py:383: RuntimeWarning: divide by zero encountered in log\n",
      "/home/grotec/Repositories/pybcfit/bcfit.py:383: RuntimeWarning: invalid value encountered in subtract\n",
      "/home/grotec/Repositories/pybcfit/bcfit.py:388: RuntimeWarning: divide by zero encountered in power\n",
      "/home/grotec/Repositories/pybcfit/bcfit.py:420: RuntimeWarning: invalid value encountered in multiply\n",
      "/home/grotec/Repositories/pybcfit/bcfit.py:421: RuntimeWarning: divide by zero encountered in power\n"
     ]
    }
   ],
   "source": [
    "# Test run\n",
    "fitness_data = inferFitness(barcodes=barcodes,\n",
    "             cycleTimes=cycle_times,\n",
    "             allReads=all_reads,\n",
    "             lowCoverageThresh=1e4,\n",
    "#              sparsityThresh=None,\n",
    "             \n",
    "             )"
   ]
  },
  {
   "cell_type": "code",
   "execution_count": 159,
   "metadata": {},
   "outputs": [],
   "source": [
    "fitness_data=fitness_data['rep1']"
   ]
  },
  {
   "cell_type": "code",
   "execution_count": 160,
   "metadata": {},
   "outputs": [
    {
     "data": {
      "text/plain": [
       "dict_keys(['neutralBarcodes', 'barcodes', 'timePointsUsed', 'kappas', 'multNoiseParams', 'meanFitness', 'allTimeFitness', 'allTimeErrors', 'aveFitness', 'aveError', 'zScores'])"
      ]
     },
     "execution_count": 160,
     "metadata": {},
     "output_type": "execute_result"
    }
   ],
   "source": [
    "fitness_data.keys()"
   ]
  },
  {
   "cell_type": "code",
   "execution_count": 162,
   "metadata": {},
   "outputs": [
    {
     "data": {
      "text/plain": [
       "65"
      ]
     },
     "execution_count": 162,
     "metadata": {},
     "output_type": "execute_result"
    }
   ],
   "source": [
    "len(fitness_data['neutralBarcodes'])"
   ]
  },
  {
   "cell_type": "markdown",
   "metadata": {},
   "source": [
    "As per the manual, this is quite small. Manual says, about 300 neutral lineages are needed."
   ]
  },
  {
   "cell_type": "markdown",
   "metadata": {},
   "source": [
    "#### Plot the neutral barcodes"
   ]
  },
  {
   "cell_type": "code",
   "execution_count": 167,
   "metadata": {},
   "outputs": [
    {
     "data": {
      "text/plain": [
       "<matplotlib.legend.Legend at 0x7f5bc8ed6100>"
      ]
     },
     "execution_count": 167,
     "metadata": {},
     "output_type": "execute_result"
    },
    {
     "data": {
      "image/png": "[encoded data removed]",
      "text/plain": [
       "<Figure size 432x288 with 1 Axes>"
      ]
     },
     "metadata": {
      "needs_background": "light"
     },
     "output_type": "display_data"
    }
   ],
   "source": [
    "nbcs = fitness_data['neutralBarcodes']\n",
    "raw.loc[nbcs,:].T.plot(style=\"-o\", title=\"Neutral barcodes as determined by bcfit\"); pyplot.legend([])"
   ]
  },
  {
   "cell_type": "code",
   "execution_count": 168,
   "metadata": {},
   "outputs": [
    {
     "data": {
      "text/plain": [
       "array([ 1,  2,  3,  4,  5,  6,  7,  8,  9, 10])"
      ]
     },
     "execution_count": 168,
     "metadata": {},
     "output_type": "execute_result"
    }
   ],
   "source": [
    "fitness_data['timePointsUsed']"
   ]
  },
  {
   "cell_type": "code",
   "execution_count": 169,
   "metadata": {},
   "outputs": [
    {
     "data": {
      "text/plain": [
       "(7222, 9)"
      ]
     },
     "execution_count": 169,
     "metadata": {},
     "output_type": "execute_result"
    }
   ],
   "source": [
    "fitness_data['allTimeFitness'].shape"
   ]
  },
  {
   "cell_type": "code",
   "execution_count": 170,
   "metadata": {},
   "outputs": [],
   "source": [
    "fitness_per_lineage = pandas.DataFrame(index=barcodes,\n",
    "                                       columns=fitness_data['timePointsUsed'][1:],\n",
    "                                       data=fitness_data['allTimeFitness']\n",
    "                                      )"
   ]
  },
  {
   "cell_type": "code",
   "execution_count": 177,
   "metadata": {},
   "outputs": [],
   "source": [
    "errors_per_lineage = pandas.DataFrame(index=barcodes,\n",
    "                                       columns=fitness_data['timePointsUsed'][1:],\n",
    "                                       data=fitness_data['allTimeErrors']\n",
    "                                      )"
   ]
  },
  {
   "cell_type": "code",
   "execution_count": 183,
   "metadata": {},
   "outputs": [],
   "source": [
    "neutral_bcs = pandas.DataFrame(index=barcodes, columns=[\"neutral\"], data=[bc in fitness_data[\"neutralBarcodes\"] for bc in barcodes])"
   ]
  },
  {
   "cell_type": "code",
   "execution_count": 184,
   "metadata": {},
   "outputs": [
    {
     "data": {
      "text/html": [
       "<div>\n",
       "<style scoped>\n",
       "    .dataframe tbody tr th:only-of-type {\n",
       "        vertical-align: middle;\n",
       "    }\n",
       "\n",
       "    .dataframe tbody tr th {\n",
       "        vertical-align: top;\n",
       "    }\n",
       "\n",
       "    .dataframe thead th {\n",
       "        text-align: right;\n",
       "    }\n",
       "</style>\n",
       "<table border=\"1\" class=\"dataframe\">\n",
       "  <thead>\n",
       "    <tr style=\"text-align: right;\">\n",
       "      <th></th>\n",
       "      <th>neutral</th>\n",
       "    </tr>\n",
       "  </thead>\n",
       "  <tbody>\n",
       "    <tr>\n",
       "      <th>ACGTTGTCC</th>\n",
       "      <td>False</td>\n",
       "    </tr>\n",
       "    <tr>\n",
       "      <th>AAAAAGCCAAGGC</th>\n",
       "      <td>False</td>\n",
       "    </tr>\n",
       "    <tr>\n",
       "      <th>TTTACTC</th>\n",
       "      <td>False</td>\n",
       "    </tr>\n",
       "    <tr>\n",
       "      <th>ACTATCACTATTACAAAA</th>\n",
       "      <td>False</td>\n",
       "    </tr>\n",
       "    <tr>\n",
       "      <th>TGGACATCGGCC</th>\n",
       "      <td>False</td>\n",
       "    </tr>\n",
       "    <tr>\n",
       "      <th>...</th>\n",
       "      <td>...</td>\n",
       "    </tr>\n",
       "    <tr>\n",
       "      <th>CTCACCTGTCGGGG</th>\n",
       "      <td>False</td>\n",
       "    </tr>\n",
       "    <tr>\n",
       "      <th>AATGCCCCCGCGGG</th>\n",
       "      <td>False</td>\n",
       "    </tr>\n",
       "    <tr>\n",
       "      <th>AAAGCCTCTTGCCC</th>\n",
       "      <td>False</td>\n",
       "    </tr>\n",
       "    <tr>\n",
       "      <th>CGAGGAATTACGGG</th>\n",
       "      <td>False</td>\n",
       "    </tr>\n",
       "    <tr>\n",
       "      <th>TAGCTCAGCTCATGCATGGTGCCCG</th>\n",
       "      <td>False</td>\n",
       "    </tr>\n",
       "  </tbody>\n",
       "</table>\n",
       "<p>7222 rows × 1 columns</p>\n",
       "</div>"
      ],
      "text/plain": [
       "                           neutral\n",
       "ACGTTGTCC                    False\n",
       "AAAAAGCCAAGGC                False\n",
       "TTTACTC                      False\n",
       "ACTATCACTATTACAAAA           False\n",
       "TGGACATCGGCC                 False\n",
       "...                            ...\n",
       "CTCACCTGTCGGGG               False\n",
       "AATGCCCCCGCGGG               False\n",
       "AAAGCCTCTTGCCC               False\n",
       "CGAGGAATTACGGG               False\n",
       "TAGCTCAGCTCATGCATGGTGCCCG    False\n",
       "\n",
       "[7222 rows x 1 columns]"
      ]
     },
     "execution_count": 184,
     "metadata": {},
     "output_type": "execute_result"
    }
   ],
   "source": [
    "neutral_bcs"
   ]
  },
  {
   "cell_type": "code",
   "execution_count": 185,
   "metadata": {},
   "outputs": [],
   "source": [
    "multiplicative_noise = pandas.Series(index=fitness_data['timePointsUsed'][1:], data=fitness_data['multNoiseParams'])"
   ]
  },
  {
   "cell_type": "code",
   "execution_count": 187,
   "metadata": {},
   "outputs": [],
   "source": [
    "mean_fitness = pandas.Series(index=fitness_data['timePointsUsed'][1:], data=fitness_data['meanFitness'])"
   ]
  },
  {
   "cell_type": "code",
   "execution_count": 232,
   "metadata": {},
   "outputs": [],
   "source": [
    "average_fitness = pandas.DataFrame(index=barcodes, columns=[\"avg. fitness\"], data=fitness_data['aveFitness'])"
   ]
  },
  {
   "cell_type": "code",
   "execution_count": 231,
   "metadata": {},
   "outputs": [],
   "source": [
    "average_error = pandas.DataFrame(index=barcodes, columns=['avg. error'], data=fitness_data['aveError'])"
   ]
  },
  {
   "cell_type": "code",
   "execution_count": 255,
   "metadata": {},
   "outputs": [],
   "source": [
    "means = pandas.DataFrame.from_dict({\"means\":pandas.concat([\n",
    "    coverage,\n",
    "    mean_fitness,\n",
    "    multiplicative_noise, ],\n",
    "    keys=[\"counts\", \"fitness\", 'error'],\n",
    "    names=['parameter', 'time point'])}, orient='index')"
   ]
  },
  {
   "cell_type": "code",
   "execution_count": 256,
   "metadata": {},
   "outputs": [
    {
     "data": {
      "text/html": [
       "<div>\n",
       "<style scoped>\n",
       "    .dataframe tbody tr th:only-of-type {\n",
       "        vertical-align: middle;\n",
       "    }\n",
       "\n",
       "    .dataframe tbody tr th {\n",
       "        vertical-align: top;\n",
       "    }\n",
       "\n",
       "    .dataframe thead tr th {\n",
       "        text-align: left;\n",
       "    }\n",
       "</style>\n",
       "<table border=\"1\" class=\"dataframe\">\n",
       "  <thead>\n",
       "    <tr>\n",
       "      <th></th>\n",
       "      <th colspan=\"10\" halign=\"left\">counts</th>\n",
       "      <th>...</th>\n",
       "      <th>fitness</th>\n",
       "      <th colspan=\"9\" halign=\"left\">error</th>\n",
       "    </tr>\n",
       "    <tr>\n",
       "      <th></th>\n",
       "      <th>1</th>\n",
       "      <th>2</th>\n",
       "      <th>3</th>\n",
       "      <th>4</th>\n",
       "      <th>5</th>\n",
       "      <th>6</th>\n",
       "      <th>7</th>\n",
       "      <th>8</th>\n",
       "      <th>9</th>\n",
       "      <th>10</th>\n",
       "      <th>...</th>\n",
       "      <th>10</th>\n",
       "      <th>2</th>\n",
       "      <th>3</th>\n",
       "      <th>4</th>\n",
       "      <th>5</th>\n",
       "      <th>6</th>\n",
       "      <th>7</th>\n",
       "      <th>8</th>\n",
       "      <th>9</th>\n",
       "      <th>10</th>\n",
       "    </tr>\n",
       "  </thead>\n",
       "  <tbody>\n",
       "    <tr>\n",
       "      <th>means</th>\n",
       "      <td>131497.0</td>\n",
       "      <td>133003.0</td>\n",
       "      <td>81940.0</td>\n",
       "      <td>27571.0</td>\n",
       "      <td>16722.0</td>\n",
       "      <td>17964.0</td>\n",
       "      <td>19643.0</td>\n",
       "      <td>19862.0</td>\n",
       "      <td>18655.0</td>\n",
       "      <td>19259.0</td>\n",
       "      <td>...</td>\n",
       "      <td>0.022842</td>\n",
       "      <td>0.1</td>\n",
       "      <td>0.1</td>\n",
       "      <td>0.1</td>\n",
       "      <td>0.1</td>\n",
       "      <td>0.1</td>\n",
       "      <td>0.1</td>\n",
       "      <td>0.1</td>\n",
       "      <td>0.1</td>\n",
       "      <td>0.1</td>\n",
       "    </tr>\n",
       "  </tbody>\n",
       "</table>\n",
       "<p>1 rows × 28 columns</p>\n",
       "</div>"
      ],
      "text/plain": [
       "         counts                                                         \\\n",
       "             1         2        3        4        5        6        7    \n",
       "means  131497.0  133003.0  81940.0  27571.0  16722.0  17964.0  19643.0   \n",
       "\n",
       "                                  ...   fitness error                      \\\n",
       "            8        9        10  ...        10    2    3    4    5    6    \n",
       "means  19862.0  18655.0  19259.0  ...  0.022842   0.1  0.1  0.1  0.1  0.1   \n",
       "\n",
       "                           \n",
       "        7    8    9    10  \n",
       "means  0.1  0.1  0.1  0.1  \n",
       "\n",
       "[1 rows x 28 columns]"
      ]
     },
     "execution_count": 256,
     "metadata": {},
     "output_type": "execute_result"
    }
   ],
   "source": [
    "means"
   ]
  },
  {
   "cell_type": "code",
   "execution_count": 282,
   "metadata": {},
   "outputs": [],
   "source": [
    "tmp = pandas.concat([\n",
    "                     raw,\n",
    "                     fitness_per_lineage,\n",
    "                     errors_per_lineage,\n",
    "                    ],\n",
    "                    axis=1,\n",
    "                    keys=(\n",
    "                        'counts',\n",
    "                        'fitness',\n",
    "                          'error',\n",
    "                         ),\n",
    "                    names=('parameter',\n",
    "                           'time point'),\n",
    "                   )"
   ]
  },
  {
   "cell_type": "code",
   "execution_count": 283,
   "metadata": {},
   "outputs": [
    {
     "data": {
      "text/html": [
       "<div>\n",
       "<style scoped>\n",
       "    .dataframe tbody tr th:only-of-type {\n",
       "        vertical-align: middle;\n",
       "    }\n",
       "\n",
       "    .dataframe tbody tr th {\n",
       "        vertical-align: top;\n",
       "    }\n",
       "\n",
       "    .dataframe thead tr th {\n",
       "        text-align: left;\n",
       "    }\n",
       "\n",
       "    .dataframe thead tr:last-of-type th {\n",
       "        text-align: right;\n",
       "    }\n",
       "</style>\n",
       "<table border=\"1\" class=\"dataframe\">\n",
       "  <thead>\n",
       "    <tr>\n",
       "      <th>parameter</th>\n",
       "      <th colspan=\"10\" halign=\"left\">counts</th>\n",
       "      <th>...</th>\n",
       "      <th>fitness</th>\n",
       "      <th colspan=\"9\" halign=\"left\">error</th>\n",
       "    </tr>\n",
       "    <tr>\n",
       "      <th>time point</th>\n",
       "      <th>1</th>\n",
       "      <th>2</th>\n",
       "      <th>3</th>\n",
       "      <th>4</th>\n",
       "      <th>5</th>\n",
       "      <th>6</th>\n",
       "      <th>7</th>\n",
       "      <th>8</th>\n",
       "      <th>9</th>\n",
       "      <th>10</th>\n",
       "      <th>...</th>\n",
       "      <th>10</th>\n",
       "      <th>2</th>\n",
       "      <th>3</th>\n",
       "      <th>4</th>\n",
       "      <th>5</th>\n",
       "      <th>6</th>\n",
       "      <th>7</th>\n",
       "      <th>8</th>\n",
       "      <th>9</th>\n",
       "      <th>10</th>\n",
       "    </tr>\n",
       "    <tr>\n",
       "      <th>barcode</th>\n",
       "      <th></th>\n",
       "      <th></th>\n",
       "      <th></th>\n",
       "      <th></th>\n",
       "      <th></th>\n",
       "      <th></th>\n",
       "      <th></th>\n",
       "      <th></th>\n",
       "      <th></th>\n",
       "      <th></th>\n",
       "      <th></th>\n",
       "      <th></th>\n",
       "      <th></th>\n",
       "      <th></th>\n",
       "      <th></th>\n",
       "      <th></th>\n",
       "      <th></th>\n",
       "      <th></th>\n",
       "      <th></th>\n",
       "      <th></th>\n",
       "      <th></th>\n",
       "    </tr>\n",
       "  </thead>\n",
       "  <tbody>\n",
       "    <tr>\n",
       "      <th>ACGTTGTCC</th>\n",
       "      <td>73</td>\n",
       "      <td>51</td>\n",
       "      <td>242</td>\n",
       "      <td>421</td>\n",
       "      <td>576</td>\n",
       "      <td>748</td>\n",
       "      <td>990</td>\n",
       "      <td>4031</td>\n",
       "      <td>6936</td>\n",
       "      <td>6892</td>\n",
       "      <td>...</td>\n",
       "      <td>NaN</td>\n",
       "      <td>inf</td>\n",
       "      <td>1.147942</td>\n",
       "      <td>inf</td>\n",
       "      <td>inf</td>\n",
       "      <td>inf</td>\n",
       "      <td>inf</td>\n",
       "      <td>inf</td>\n",
       "      <td>inf</td>\n",
       "      <td>inf</td>\n",
       "    </tr>\n",
       "    <tr>\n",
       "      <th>AAAAAGCCAAGGC</th>\n",
       "      <td>116</td>\n",
       "      <td>336</td>\n",
       "      <td>588</td>\n",
       "      <td>2089</td>\n",
       "      <td>3049</td>\n",
       "      <td>2415</td>\n",
       "      <td>2079</td>\n",
       "      <td>3291</td>\n",
       "      <td>2233</td>\n",
       "      <td>2494</td>\n",
       "      <td>...</td>\n",
       "      <td>NaN</td>\n",
       "      <td>0.715682</td>\n",
       "      <td>inf</td>\n",
       "      <td>inf</td>\n",
       "      <td>inf</td>\n",
       "      <td>inf</td>\n",
       "      <td>inf</td>\n",
       "      <td>inf</td>\n",
       "      <td>inf</td>\n",
       "      <td>inf</td>\n",
       "    </tr>\n",
       "    <tr>\n",
       "      <th>TTTACTC</th>\n",
       "      <td>118</td>\n",
       "      <td>158</td>\n",
       "      <td>519</td>\n",
       "      <td>6284</td>\n",
       "      <td>438</td>\n",
       "      <td>2550</td>\n",
       "      <td>1295</td>\n",
       "      <td>2818</td>\n",
       "      <td>262</td>\n",
       "      <td>331</td>\n",
       "      <td>...</td>\n",
       "      <td>NaN</td>\n",
       "      <td>0.397123</td>\n",
       "      <td>0.459560</td>\n",
       "      <td>inf</td>\n",
       "      <td>inf</td>\n",
       "      <td>inf</td>\n",
       "      <td>0.923358</td>\n",
       "      <td>inf</td>\n",
       "      <td>inf</td>\n",
       "      <td>inf</td>\n",
       "    </tr>\n",
       "    <tr>\n",
       "      <th>ACTATCACTATTACAAAA</th>\n",
       "      <td>86</td>\n",
       "      <td>282</td>\n",
       "      <td>1017</td>\n",
       "      <td>1583</td>\n",
       "      <td>1315</td>\n",
       "      <td>2628</td>\n",
       "      <td>1865</td>\n",
       "      <td>1079</td>\n",
       "      <td>689</td>\n",
       "      <td>707</td>\n",
       "      <td>...</td>\n",
       "      <td>NaN</td>\n",
       "      <td>0.345216</td>\n",
       "      <td>0.667775</td>\n",
       "      <td>inf</td>\n",
       "      <td>inf</td>\n",
       "      <td>inf</td>\n",
       "      <td>1.301991</td>\n",
       "      <td>inf</td>\n",
       "      <td>inf</td>\n",
       "      <td>inf</td>\n",
       "    </tr>\n",
       "    <tr>\n",
       "      <th>TGGACATCGGCC</th>\n",
       "      <td>849</td>\n",
       "      <td>806</td>\n",
       "      <td>879</td>\n",
       "      <td>748</td>\n",
       "      <td>683</td>\n",
       "      <td>1325</td>\n",
       "      <td>590</td>\n",
       "      <td>855</td>\n",
       "      <td>1448</td>\n",
       "      <td>766</td>\n",
       "      <td>...</td>\n",
       "      <td>NaN</td>\n",
       "      <td>0.315720</td>\n",
       "      <td>0.394091</td>\n",
       "      <td>3.012255</td>\n",
       "      <td>inf</td>\n",
       "      <td>inf</td>\n",
       "      <td>1.064638</td>\n",
       "      <td>inf</td>\n",
       "      <td>inf</td>\n",
       "      <td>inf</td>\n",
       "    </tr>\n",
       "    <tr>\n",
       "      <th>...</th>\n",
       "      <td>...</td>\n",
       "      <td>...</td>\n",
       "      <td>...</td>\n",
       "      <td>...</td>\n",
       "      <td>...</td>\n",
       "      <td>...</td>\n",
       "      <td>...</td>\n",
       "      <td>...</td>\n",
       "      <td>...</td>\n",
       "      <td>...</td>\n",
       "      <td>...</td>\n",
       "      <td>...</td>\n",
       "      <td>...</td>\n",
       "      <td>...</td>\n",
       "      <td>...</td>\n",
       "      <td>...</td>\n",
       "      <td>...</td>\n",
       "      <td>...</td>\n",
       "      <td>...</td>\n",
       "      <td>...</td>\n",
       "      <td>...</td>\n",
       "    </tr>\n",
       "    <tr>\n",
       "      <th>CTCACCTGTCGGGG</th>\n",
       "      <td>0</td>\n",
       "      <td>0</td>\n",
       "      <td>0</td>\n",
       "      <td>0</td>\n",
       "      <td>0</td>\n",
       "      <td>0</td>\n",
       "      <td>0</td>\n",
       "      <td>0</td>\n",
       "      <td>0</td>\n",
       "      <td>1</td>\n",
       "      <td>...</td>\n",
       "      <td>NaN</td>\n",
       "      <td>0.715682</td>\n",
       "      <td>inf</td>\n",
       "      <td>3.012255</td>\n",
       "      <td>inf</td>\n",
       "      <td>inf</td>\n",
       "      <td>inf</td>\n",
       "      <td>inf</td>\n",
       "      <td>inf</td>\n",
       "      <td>inf</td>\n",
       "    </tr>\n",
       "    <tr>\n",
       "      <th>AATGCCCCCGCGGG</th>\n",
       "      <td>0</td>\n",
       "      <td>0</td>\n",
       "      <td>0</td>\n",
       "      <td>0</td>\n",
       "      <td>0</td>\n",
       "      <td>0</td>\n",
       "      <td>0</td>\n",
       "      <td>0</td>\n",
       "      <td>0</td>\n",
       "      <td>1</td>\n",
       "      <td>...</td>\n",
       "      <td>NaN</td>\n",
       "      <td>inf</td>\n",
       "      <td>1.620353</td>\n",
       "      <td>inf</td>\n",
       "      <td>inf</td>\n",
       "      <td>inf</td>\n",
       "      <td>inf</td>\n",
       "      <td>inf</td>\n",
       "      <td>inf</td>\n",
       "      <td>inf</td>\n",
       "    </tr>\n",
       "    <tr>\n",
       "      <th>AAAGCCTCTTGCCC</th>\n",
       "      <td>0</td>\n",
       "      <td>0</td>\n",
       "      <td>0</td>\n",
       "      <td>0</td>\n",
       "      <td>0</td>\n",
       "      <td>0</td>\n",
       "      <td>0</td>\n",
       "      <td>0</td>\n",
       "      <td>0</td>\n",
       "      <td>1</td>\n",
       "      <td>...</td>\n",
       "      <td>inf</td>\n",
       "      <td>0.306105</td>\n",
       "      <td>0.459560</td>\n",
       "      <td>1.233131</td>\n",
       "      <td>1.152518</td>\n",
       "      <td>inf</td>\n",
       "      <td>1.301991</td>\n",
       "      <td>inf</td>\n",
       "      <td>inf</td>\n",
       "      <td>1.103988</td>\n",
       "    </tr>\n",
       "    <tr>\n",
       "      <th>CGAGGAATTACGGG</th>\n",
       "      <td>0</td>\n",
       "      <td>0</td>\n",
       "      <td>0</td>\n",
       "      <td>0</td>\n",
       "      <td>0</td>\n",
       "      <td>0</td>\n",
       "      <td>0</td>\n",
       "      <td>0</td>\n",
       "      <td>0</td>\n",
       "      <td>1</td>\n",
       "      <td>...</td>\n",
       "      <td>NaN</td>\n",
       "      <td>0.421189</td>\n",
       "      <td>0.667775</td>\n",
       "      <td>3.012255</td>\n",
       "      <td>inf</td>\n",
       "      <td>inf</td>\n",
       "      <td>inf</td>\n",
       "      <td>inf</td>\n",
       "      <td>inf</td>\n",
       "      <td>inf</td>\n",
       "    </tr>\n",
       "    <tr>\n",
       "      <th>TAGCTCAGCTCATGCATGGTGCCCG</th>\n",
       "      <td>1</td>\n",
       "      <td>0</td>\n",
       "      <td>0</td>\n",
       "      <td>0</td>\n",
       "      <td>0</td>\n",
       "      <td>0</td>\n",
       "      <td>0</td>\n",
       "      <td>0</td>\n",
       "      <td>0</td>\n",
       "      <td>0</td>\n",
       "      <td>...</td>\n",
       "      <td>NaN</td>\n",
       "      <td>0.510980</td>\n",
       "      <td>0.619394</td>\n",
       "      <td>inf</td>\n",
       "      <td>inf</td>\n",
       "      <td>0.571103</td>\n",
       "      <td>1.064638</td>\n",
       "      <td>inf</td>\n",
       "      <td>inf</td>\n",
       "      <td>inf</td>\n",
       "    </tr>\n",
       "  </tbody>\n",
       "</table>\n",
       "<p>7222 rows × 28 columns</p>\n",
       "</div>"
      ],
      "text/plain": [
       "parameter                 counts                                           \\\n",
       "time point                    1    2     3     4     5     6     7     8    \n",
       "barcode                                                                     \n",
       "ACGTTGTCC                     73   51   242   421   576   748   990  4031   \n",
       "AAAAAGCCAAGGC                116  336   588  2089  3049  2415  2079  3291   \n",
       "TTTACTC                      118  158   519  6284   438  2550  1295  2818   \n",
       "ACTATCACTATTACAAAA            86  282  1017  1583  1315  2628  1865  1079   \n",
       "TGGACATCGGCC                 849  806   879   748   683  1325   590   855   \n",
       "...                          ...  ...   ...   ...   ...   ...   ...   ...   \n",
       "CTCACCTGTCGGGG                 0    0     0     0     0     0     0     0   \n",
       "AATGCCCCCGCGGG                 0    0     0     0     0     0     0     0   \n",
       "AAAGCCTCTTGCCC                 0    0     0     0     0     0     0     0   \n",
       "CGAGGAATTACGGG                 0    0     0     0     0     0     0     0   \n",
       "TAGCTCAGCTCATGCATGGTGCCCG      1    0     0     0     0     0     0     0   \n",
       "\n",
       "parameter                              ... fitness     error            \\\n",
       "time point                   9     10  ...      10        2         3    \n",
       "barcode                                ...                               \n",
       "ACGTTGTCC                  6936  6892  ...     NaN       inf  1.147942   \n",
       "AAAAAGCCAAGGC              2233  2494  ...     NaN  0.715682       inf   \n",
       "TTTACTC                     262   331  ...     NaN  0.397123  0.459560   \n",
       "ACTATCACTATTACAAAA          689   707  ...     NaN  0.345216  0.667775   \n",
       "TGGACATCGGCC               1448   766  ...     NaN  0.315720  0.394091   \n",
       "...                         ...   ...  ...     ...       ...       ...   \n",
       "CTCACCTGTCGGGG                0     1  ...     NaN  0.715682       inf   \n",
       "AATGCCCCCGCGGG                0     1  ...     NaN       inf  1.620353   \n",
       "AAAGCCTCTTGCCC                0     1  ...     inf  0.306105  0.459560   \n",
       "CGAGGAATTACGGG                0     1  ...     NaN  0.421189  0.667775   \n",
       "TAGCTCAGCTCATGCATGGTGCCCG     0     0  ...     NaN  0.510980  0.619394   \n",
       "\n",
       "parameter                                                                    \\\n",
       "time point                       4         5         6         7    8    9    \n",
       "barcode                                                                       \n",
       "ACGTTGTCC                       inf       inf       inf       inf  inf  inf   \n",
       "AAAAAGCCAAGGC                   inf       inf       inf       inf  inf  inf   \n",
       "TTTACTC                         inf       inf       inf  0.923358  inf  inf   \n",
       "ACTATCACTATTACAAAA              inf       inf       inf  1.301991  inf  inf   \n",
       "TGGACATCGGCC               3.012255       inf       inf  1.064638  inf  inf   \n",
       "...                             ...       ...       ...       ...  ...  ...   \n",
       "CTCACCTGTCGGGG             3.012255       inf       inf       inf  inf  inf   \n",
       "AATGCCCCCGCGGG                  inf       inf       inf       inf  inf  inf   \n",
       "AAAGCCTCTTGCCC             1.233131  1.152518       inf  1.301991  inf  inf   \n",
       "CGAGGAATTACGGG             3.012255       inf       inf       inf  inf  inf   \n",
       "TAGCTCAGCTCATGCATGGTGCCCG       inf       inf  0.571103  1.064638  inf  inf   \n",
       "\n",
       "parameter                            \n",
       "time point                       10  \n",
       "barcode                              \n",
       "ACGTTGTCC                       inf  \n",
       "AAAAAGCCAAGGC                   inf  \n",
       "TTTACTC                         inf  \n",
       "ACTATCACTATTACAAAA              inf  \n",
       "TGGACATCGGCC                    inf  \n",
       "...                             ...  \n",
       "CTCACCTGTCGGGG                  inf  \n",
       "AATGCCCCCGCGGG                  inf  \n",
       "AAAGCCTCTTGCCC             1.103988  \n",
       "CGAGGAATTACGGG                  inf  \n",
       "TAGCTCAGCTCATGCATGGTGCCCG       inf  \n",
       "\n",
       "[7222 rows x 28 columns]"
      ]
     },
     "execution_count": 283,
     "metadata": {},
     "output_type": "execute_result"
    }
   ],
   "source": [
    "tmp"
   ]
  },
  {
   "cell_type": "code",
   "execution_count": 284,
   "metadata": {},
   "outputs": [],
   "source": [
    "tmp=  pandas.concat([tmp, means])"
   ]
  },
  {
   "cell_type": "code",
   "execution_count": 285,
   "metadata": {},
   "outputs": [],
   "source": [
    "tmp2 = pandas.concat([\n",
    "                     abundance,\n",
    "                     neutral_bcs,\n",
    "                     average_fitness,\n",
    "                     average_error,\n",
    "                     ], axis=1, \n",
    "                    keys=[\"abundance\", \"neutral\", 'avg. fitness', 'avg. error'])"
   ]
  },
  {
   "cell_type": "code",
   "execution_count": 286,
   "metadata": {},
   "outputs": [
    {
     "data": {
      "text/html": [
       "<div>\n",
       "<style scoped>\n",
       "    .dataframe tbody tr th:only-of-type {\n",
       "        vertical-align: middle;\n",
       "    }\n",
       "\n",
       "    .dataframe tbody tr th {\n",
       "        vertical-align: top;\n",
       "    }\n",
       "\n",
       "    .dataframe thead tr th {\n",
       "        text-align: left;\n",
       "    }\n",
       "\n",
       "    .dataframe thead tr:last-of-type th {\n",
       "        text-align: right;\n",
       "    }\n",
       "</style>\n",
       "<table border=\"1\" class=\"dataframe\">\n",
       "  <thead>\n",
       "    <tr>\n",
       "      <th></th>\n",
       "      <th>abundance</th>\n",
       "      <th>neutral</th>\n",
       "      <th>avg. fitness</th>\n",
       "      <th>avg. error</th>\n",
       "    </tr>\n",
       "    <tr>\n",
       "      <th></th>\n",
       "      <th>abundance</th>\n",
       "      <th>neutral</th>\n",
       "      <th>avg. fitness</th>\n",
       "      <th>avg. error</th>\n",
       "    </tr>\n",
       "    <tr>\n",
       "      <th>barcode</th>\n",
       "      <th></th>\n",
       "      <th></th>\n",
       "      <th></th>\n",
       "      <th></th>\n",
       "    </tr>\n",
       "  </thead>\n",
       "  <tbody>\n",
       "    <tr>\n",
       "      <th>ACGTTGTCC</th>\n",
       "      <td>20960</td>\n",
       "      <td>False</td>\n",
       "      <td>NaN</td>\n",
       "      <td>1.147942</td>\n",
       "    </tr>\n",
       "    <tr>\n",
       "      <th>AAAAAGCCAAGGC</th>\n",
       "      <td>18690</td>\n",
       "      <td>False</td>\n",
       "      <td>NaN</td>\n",
       "      <td>0.715682</td>\n",
       "    </tr>\n",
       "    <tr>\n",
       "      <th>TTTACTC</th>\n",
       "      <td>14773</td>\n",
       "      <td>False</td>\n",
       "      <td>NaN</td>\n",
       "      <td>0.285729</td>\n",
       "    </tr>\n",
       "    <tr>\n",
       "      <th>ACTATCACTATTACAAAA</th>\n",
       "      <td>11251</td>\n",
       "      <td>False</td>\n",
       "      <td>NaN</td>\n",
       "      <td>0.298494</td>\n",
       "    </tr>\n",
       "    <tr>\n",
       "      <th>TGGACATCGGCC</th>\n",
       "      <td>8949</td>\n",
       "      <td>False</td>\n",
       "      <td>NaN</td>\n",
       "      <td>0.239295</td>\n",
       "    </tr>\n",
       "    <tr>\n",
       "      <th>...</th>\n",
       "      <td>...</td>\n",
       "      <td>...</td>\n",
       "      <td>...</td>\n",
       "      <td>...</td>\n",
       "    </tr>\n",
       "    <tr>\n",
       "      <th>CTCACCTGTCGGGG</th>\n",
       "      <td>1</td>\n",
       "      <td>False</td>\n",
       "      <td>NaN</td>\n",
       "      <td>0.696299</td>\n",
       "    </tr>\n",
       "    <tr>\n",
       "      <th>AATGCCCCCGCGGG</th>\n",
       "      <td>1</td>\n",
       "      <td>False</td>\n",
       "      <td>NaN</td>\n",
       "      <td>1.620353</td>\n",
       "    </tr>\n",
       "    <tr>\n",
       "      <th>AAAGCCTCTTGCCC</th>\n",
       "      <td>1</td>\n",
       "      <td>False</td>\n",
       "      <td>NaN</td>\n",
       "      <td>0.234223</td>\n",
       "    </tr>\n",
       "    <tr>\n",
       "      <th>CGAGGAATTACGGG</th>\n",
       "      <td>1</td>\n",
       "      <td>False</td>\n",
       "      <td>NaN</td>\n",
       "      <td>0.353781</td>\n",
       "    </tr>\n",
       "    <tr>\n",
       "      <th>TAGCTCAGCTCATGCATGGTGCCCG</th>\n",
       "      <td>1</td>\n",
       "      <td>False</td>\n",
       "      <td>NaN</td>\n",
       "      <td>0.310315</td>\n",
       "    </tr>\n",
       "  </tbody>\n",
       "</table>\n",
       "<p>7222 rows × 4 columns</p>\n",
       "</div>"
      ],
      "text/plain": [
       "                          abundance neutral avg. fitness avg. error\n",
       "                          abundance neutral avg. fitness avg. error\n",
       "barcode                                                            \n",
       "ACGTTGTCC                     20960   False          NaN   1.147942\n",
       "AAAAAGCCAAGGC                 18690   False          NaN   0.715682\n",
       "TTTACTC                       14773   False          NaN   0.285729\n",
       "ACTATCACTATTACAAAA            11251   False          NaN   0.298494\n",
       "TGGACATCGGCC                   8949   False          NaN   0.239295\n",
       "...                             ...     ...          ...        ...\n",
       "CTCACCTGTCGGGG                    1   False          NaN   0.696299\n",
       "AATGCCCCCGCGGG                    1   False          NaN   1.620353\n",
       "AAAGCCTCTTGCCC                    1   False          NaN   0.234223\n",
       "CGAGGAATTACGGG                    1   False          NaN   0.353781\n",
       "TAGCTCAGCTCATGCATGGTGCCCG         1   False          NaN   0.310315\n",
       "\n",
       "[7222 rows x 4 columns]"
      ]
     },
     "execution_count": 286,
     "metadata": {},
     "output_type": "execute_result"
    }
   ],
   "source": [
    "tmp2"
   ]
  },
  {
   "cell_type": "code",
   "execution_count": 287,
   "metadata": {},
   "outputs": [],
   "source": [
    "data = pandas.concat([tmp, tmp2], axis=1)"
   ]
  },
  {
   "cell_type": "code",
   "execution_count": 300,
   "metadata": {},
   "outputs": [
    {
     "data": {
      "text/plain": [
       "<AxesSubplot:xlabel='time point'>"
      ]
     },
     "execution_count": 300,
     "metadata": {},
     "output_type": "execute_result"
    },
    {
     "data": {
      "image/png": "[encoded data removed]",
      "text/plain": [
       "<Figure size 432x288 with 1 Axes>"
      ]
     },
     "metadata": {
      "needs_background": "light"
     },
     "output_type": "display_data"
    }
   ],
   "source": [
    "data.loc['means',('counts')].plot()"
   ]
  },
  {
   "cell_type": "code",
   "execution_count": 313,
   "metadata": {},
   "outputs": [
    {
     "data": {
      "text/html": [
       "<div>\n",
       "<style scoped>\n",
       "    .dataframe tbody tr th:only-of-type {\n",
       "        vertical-align: middle;\n",
       "    }\n",
       "\n",
       "    .dataframe tbody tr th {\n",
       "        vertical-align: top;\n",
       "    }\n",
       "\n",
       "    .dataframe thead th {\n",
       "        text-align: right;\n",
       "    }\n",
       "</style>\n",
       "<table border=\"1\" class=\"dataframe\">\n",
       "  <thead>\n",
       "    <tr style=\"text-align: right;\">\n",
       "      <th>time point</th>\n",
       "      <th>2</th>\n",
       "      <th>3</th>\n",
       "      <th>4</th>\n",
       "      <th>5</th>\n",
       "      <th>6</th>\n",
       "      <th>7</th>\n",
       "      <th>8</th>\n",
       "      <th>9</th>\n",
       "      <th>10</th>\n",
       "    </tr>\n",
       "  </thead>\n",
       "  <tbody>\n",
       "    <tr>\n",
       "      <th>ACGTTGTCC</th>\n",
       "      <td>inf</td>\n",
       "      <td>1.147942</td>\n",
       "      <td>inf</td>\n",
       "      <td>inf</td>\n",
       "      <td>inf</td>\n",
       "      <td>inf</td>\n",
       "      <td>inf</td>\n",
       "      <td>inf</td>\n",
       "      <td>inf</td>\n",
       "    </tr>\n",
       "    <tr>\n",
       "      <th>AAAAAGCCAAGGC</th>\n",
       "      <td>0.715682</td>\n",
       "      <td>inf</td>\n",
       "      <td>inf</td>\n",
       "      <td>inf</td>\n",
       "      <td>inf</td>\n",
       "      <td>inf</td>\n",
       "      <td>inf</td>\n",
       "      <td>inf</td>\n",
       "      <td>inf</td>\n",
       "    </tr>\n",
       "    <tr>\n",
       "      <th>TTTACTC</th>\n",
       "      <td>0.397123</td>\n",
       "      <td>0.459560</td>\n",
       "      <td>inf</td>\n",
       "      <td>inf</td>\n",
       "      <td>inf</td>\n",
       "      <td>0.923358</td>\n",
       "      <td>inf</td>\n",
       "      <td>inf</td>\n",
       "      <td>inf</td>\n",
       "    </tr>\n",
       "    <tr>\n",
       "      <th>ACTATCACTATTACAAAA</th>\n",
       "      <td>0.345216</td>\n",
       "      <td>0.667775</td>\n",
       "      <td>inf</td>\n",
       "      <td>inf</td>\n",
       "      <td>inf</td>\n",
       "      <td>1.301991</td>\n",
       "      <td>inf</td>\n",
       "      <td>inf</td>\n",
       "      <td>inf</td>\n",
       "    </tr>\n",
       "    <tr>\n",
       "      <th>TGGACATCGGCC</th>\n",
       "      <td>0.315720</td>\n",
       "      <td>0.394091</td>\n",
       "      <td>3.012255</td>\n",
       "      <td>inf</td>\n",
       "      <td>inf</td>\n",
       "      <td>1.064638</td>\n",
       "      <td>inf</td>\n",
       "      <td>inf</td>\n",
       "      <td>inf</td>\n",
       "    </tr>\n",
       "    <tr>\n",
       "      <th>...</th>\n",
       "      <td>...</td>\n",
       "      <td>...</td>\n",
       "      <td>...</td>\n",
       "      <td>...</td>\n",
       "      <td>...</td>\n",
       "      <td>...</td>\n",
       "      <td>...</td>\n",
       "      <td>...</td>\n",
       "      <td>...</td>\n",
       "    </tr>\n",
       "    <tr>\n",
       "      <th>CTCACCTGTCGGGG</th>\n",
       "      <td>0.715682</td>\n",
       "      <td>inf</td>\n",
       "      <td>3.012255</td>\n",
       "      <td>inf</td>\n",
       "      <td>inf</td>\n",
       "      <td>inf</td>\n",
       "      <td>inf</td>\n",
       "      <td>inf</td>\n",
       "      <td>inf</td>\n",
       "    </tr>\n",
       "    <tr>\n",
       "      <th>AATGCCCCCGCGGG</th>\n",
       "      <td>inf</td>\n",
       "      <td>1.620353</td>\n",
       "      <td>inf</td>\n",
       "      <td>inf</td>\n",
       "      <td>inf</td>\n",
       "      <td>inf</td>\n",
       "      <td>inf</td>\n",
       "      <td>inf</td>\n",
       "      <td>inf</td>\n",
       "    </tr>\n",
       "    <tr>\n",
       "      <th>AAAGCCTCTTGCCC</th>\n",
       "      <td>0.306105</td>\n",
       "      <td>0.459560</td>\n",
       "      <td>1.233131</td>\n",
       "      <td>1.152518</td>\n",
       "      <td>inf</td>\n",
       "      <td>1.301991</td>\n",
       "      <td>inf</td>\n",
       "      <td>inf</td>\n",
       "      <td>1.103988</td>\n",
       "    </tr>\n",
       "    <tr>\n",
       "      <th>CGAGGAATTACGGG</th>\n",
       "      <td>0.421189</td>\n",
       "      <td>0.667775</td>\n",
       "      <td>3.012255</td>\n",
       "      <td>inf</td>\n",
       "      <td>inf</td>\n",
       "      <td>inf</td>\n",
       "      <td>inf</td>\n",
       "      <td>inf</td>\n",
       "      <td>inf</td>\n",
       "    </tr>\n",
       "    <tr>\n",
       "      <th>TAGCTCAGCTCATGCATGGTGCCCG</th>\n",
       "      <td>0.510980</td>\n",
       "      <td>0.619394</td>\n",
       "      <td>inf</td>\n",
       "      <td>inf</td>\n",
       "      <td>0.571103</td>\n",
       "      <td>1.064638</td>\n",
       "      <td>inf</td>\n",
       "      <td>inf</td>\n",
       "      <td>inf</td>\n",
       "    </tr>\n",
       "  </tbody>\n",
       "</table>\n",
       "<p>7222 rows × 9 columns</p>\n",
       "</div>"
      ],
      "text/plain": [
       "time point                       2         3         4         5         6   \\\n",
       "ACGTTGTCC                       inf  1.147942       inf       inf       inf   \n",
       "AAAAAGCCAAGGC              0.715682       inf       inf       inf       inf   \n",
       "TTTACTC                    0.397123  0.459560       inf       inf       inf   \n",
       "ACTATCACTATTACAAAA         0.345216  0.667775       inf       inf       inf   \n",
       "TGGACATCGGCC               0.315720  0.394091  3.012255       inf       inf   \n",
       "...                             ...       ...       ...       ...       ...   \n",
       "CTCACCTGTCGGGG             0.715682       inf  3.012255       inf       inf   \n",
       "AATGCCCCCGCGGG                  inf  1.620353       inf       inf       inf   \n",
       "AAAGCCTCTTGCCC             0.306105  0.459560  1.233131  1.152518       inf   \n",
       "CGAGGAATTACGGG             0.421189  0.667775  3.012255       inf       inf   \n",
       "TAGCTCAGCTCATGCATGGTGCCCG  0.510980  0.619394       inf       inf  0.571103   \n",
       "\n",
       "time point                       7    8    9         10  \n",
       "ACGTTGTCC                       inf  inf  inf       inf  \n",
       "AAAAAGCCAAGGC                   inf  inf  inf       inf  \n",
       "TTTACTC                    0.923358  inf  inf       inf  \n",
       "ACTATCACTATTACAAAA         1.301991  inf  inf       inf  \n",
       "TGGACATCGGCC               1.064638  inf  inf       inf  \n",
       "...                             ...  ...  ...       ...  \n",
       "CTCACCTGTCGGGG                  inf  inf  inf       inf  \n",
       "AATGCCCCCGCGGG                  inf  inf  inf       inf  \n",
       "AAAGCCTCTTGCCC             1.301991  inf  inf  1.103988  \n",
       "CGAGGAATTACGGG                  inf  inf  inf       inf  \n",
       "TAGCTCAGCTCATGCATGGTGCCCG  1.064638  inf  inf       inf  \n",
       "\n",
       "[7222 rows x 9 columns]"
      ]
     },
     "execution_count": 313,
     "metadata": {},
     "output_type": "execute_result"
    }
   ],
   "source": [
    "data.loc[:barcodes[-1],('error')]"
   ]
  },
  {
   "cell_type": "code",
   "execution_count": 310,
   "metadata": {},
   "outputs": [
    {
     "data": {
      "image/png": "[encoded data removed]",
      "text/plain": [
       "<Figure size 720x720 with 3 Axes>"
      ]
     },
     "metadata": {
      "needs_background": "light"
     },
     "output_type": "display_data"
    }
   ],
   "source": [
    "fig, axs = pyplot.subplots(3,1, figsize=(10,10), sharex=True)\n",
    "(data.head(10).loc[:,('counts')]/data.loc['means',('counts')]).T.plot(style=style, ax=axs[0], title=\"read frequency\") \n",
    "data.head(10).loc[:,('fitness')].T.plot(style=style, ax=axs[1], title=\"fitness\")\n",
    "data.head(10).loc[:,('error')].T.plot(style=style, ax=axs[2], title=\"fitness error\")\n",
    "for ax in axs:\n",
    "    ax.legend([])\n",
    "    \n",
    "fig.tight_layout()"
   ]
  },
  {
   "cell_type": "code",
   "execution_count": 175,
   "metadata": {},
   "outputs": [
    {
     "data": {
      "text/plain": [
       "<matplotlib.legend.Legend at 0x7f5bc7f5eb20>"
      ]
     },
     "execution_count": 175,
     "metadata": {},
     "output_type": "execute_result"
    },
    {
     "data": {
      "image/png": "[encoded data removed]",
      "text/plain": [
       "<Figure size 432x288 with 2 Axes>"
      ]
     },
     "metadata": {
      "needs_background": "light"
     },
     "output_type": "display_data"
    }
   ],
   "source": [
    "style=\"-o\"\n",
    "axs[0].legend([])\n",
    "fitness_per_lineage.head(20).T.plot(style=style, ax=axs[1]);\n",
    "axs[1].legend([])"
   ]
  },
  {
   "cell_type": "code",
   "execution_count": 176,
   "metadata": {},
   "outputs": [
    {
     "data": {
      "text/plain": [
       "{'neutralBarcodes': array(['AAAAATGACA', 'AACGCCACACCTAGTATGT', 'AAGAGCCT',\n",
       "        'AATAACATCCAAACAG', 'AATTAC', 'AATTAG', 'ACGCAAAAATCCCCAGAT',\n",
       "        'ACGCACAACAAAAT', 'ACTAAAATAAACA', 'ACTGATTTAATAAA', 'ACTGCGGAG',\n",
       "        'AGCTTCCCCCGTTA', 'AGGAATTA', 'AGGTGTAG', 'ATAGACTGGT',\n",
       "        'ATATATATCCTA', 'CAAACC', 'CAAGAG', 'CACAACT', 'CAGCGTTCA',\n",
       "        'CATCTATGTGCCGAGAAA', 'CATGCTCACGATTACT', 'CATTGA',\n",
       "        'CCCATGACCGTTGT', 'CCCCCCATCCATAGCTACT', 'CCTCAATGCAATTTA',\n",
       "        'CCTCCGAAA', 'CGAGGAATTA', 'CGTAGGAGAGCTTCGTGGACAT', 'CTAACGCA',\n",
       "        'CTATTCCATGAAGCTTGGC', 'CTTCTCGAGGAAT', 'CTTCTCGAGGAATTA',\n",
       "        'CTTCTCGAGGAATTACC', 'GAACGTGAATC', 'GAATGTCTCTT', 'GATAATCA',\n",
       "        'GATATCGCGATTC', 'GATCATCAAA', 'GCAAGA', 'GCAGGCCCTGGCTACTCAC',\n",
       "        'GCCCAAGCTTCTCGAGGAATTAC', 'GGCAAA', 'GGCAAGATATTAAGGACCC',\n",
       "        'GGCACATAA', 'GTATAT', 'GTCGGTGTA', 'GTCTCTT', 'GTTGTAG',\n",
       "        'TAATTCCTCCAA', 'TCCCGTTATCTACTCC', 'TCGAGG', 'TCTGCT', 'TCTTGA',\n",
       "        'TGAAAAGCCCTCCGTCAAT', 'TGCACAGGGACG', 'TGGACATCGGCCC',\n",
       "        'TGGACATCGGCCCAAGCTT', 'TGGACATCGGCCCAAGCTTCTCGAG', 'TTAAAG',\n",
       "        'TTAACATTTATAAAAGAC', 'TTCAGATA', 'TTCGTCGATT', 'TTCTTTC',\n",
       "        'TTGTTAAC'], dtype='<U25'),\n",
       " 'barcodes': array(['AAAAAA', 'AAAAAAAA', 'AAAAAAACA', ..., 'TTTTTGCTGGCAATGAAC',\n",
       "        'TTTTTT', 'TTTTTTACAAA'], dtype='<U25'),\n",
       " 'timePointsUsed': array([ 1,  2,  3,  4,  5,  6,  7,  8,  9, 10]),\n",
       " 'kappas': array([2.51100691, 2.61554352, 9.06367873, 2.63659675, 0.94847675,\n",
       "        3.37036208, 4.13519995, 1.54439624, 1.20878983]),\n",
       " 'multNoiseParams': array([0.1, 0.1, 0.1, 0.1, 0.1, 0.1, 0.1, 0.1, 0.1]),\n",
       " 'meanFitness': array([-0.02498   , -0.04255166,  0.22618846,  0.14899429,  0.21543243,\n",
       "        -0.28941462,  0.23717638, -0.03881242,  0.02284166]),\n",
       " 'allTimeFitness': array([[       -inf,         inf,        -inf, ...,         nan,\n",
       "                 nan,         nan],\n",
       "        [-0.50637127,        -inf,         nan, ...,         nan,\n",
       "                 nan,         nan],\n",
       "        [ 0.49426061,  0.17356877,        -inf, ...,        -inf,\n",
       "                 nan,         nan],\n",
       "        ...,\n",
       "        [-0.4193599 , -0.39441527,  0.54222135, ...,        -inf,\n",
       "                 nan,         inf],\n",
       "        [ 0.18677591, -0.47445798, -0.47634823, ...,         nan,\n",
       "                 nan,         nan],\n",
       "        [-0.03636764,  0.08515781,        -inf, ...,        -inf,\n",
       "                 nan,         nan]]),\n",
       " 'allTimeErrors': array([[       inf, 1.1479424 ,        inf, ...,        inf,        inf,\n",
       "                inf],\n",
       "        [0.71568246,        inf,        inf, ...,        inf,        inf,\n",
       "                inf],\n",
       "        [0.39712251, 0.45956028,        inf, ...,        inf,        inf,\n",
       "                inf],\n",
       "        ...,\n",
       "        [0.30610493, 0.45956028, 1.23313143, ...,        inf,        inf,\n",
       "         1.10398815],\n",
       "        [0.42118934, 0.66777535, 3.01225476, ...,        inf,        inf,\n",
       "                inf],\n",
       "        [0.51098013, 0.61939412,        inf, ...,        inf,        inf,\n",
       "                inf]]),\n",
       " 'aveFitness': array([nan, nan, nan, ..., nan, nan, nan]),\n",
       " 'aveError': array([1.1479424 , 0.71568246, 0.28572894, ..., 0.23422259, 0.35378104,\n",
       "        0.31031462]),\n",
       " 'zScores': array([nan, nan, nan, ..., inf, nan, nan])}"
      ]
     },
     "execution_count": 176,
     "metadata": {},
     "output_type": "execute_result"
    }
   ],
   "source": [
    "fitness_data"
   ]
  },
  {
   "cell_type": "markdown",
   "metadata": {},
   "source": [
    "## Add artifical \"average\" lineage and use that as the reference to calculate fitness against."
   ]
  },
  {
   "cell_type": "code",
   "execution_count": 99,
   "metadata": {},
   "outputs": [],
   "source": [
    "average = pandas.DataFrame.from_dict(data={\"NNNNNNN\": raw.mean(axis=0).astype(int)}, orient=\"index\")"
   ]
  },
  {
   "cell_type": "code",
   "execution_count": 100,
   "metadata": {},
   "outputs": [
    {
     "data": {
      "text/html": [
       "<div>\n",
       "<style scoped>\n",
       "    .dataframe tbody tr th:only-of-type {\n",
       "        vertical-align: middle;\n",
       "    }\n",
       "\n",
       "    .dataframe tbody tr th {\n",
       "        vertical-align: top;\n",
       "    }\n",
       "\n",
       "    .dataframe thead th {\n",
       "        text-align: right;\n",
       "    }\n",
       "</style>\n",
       "<table border=\"1\" class=\"dataframe\">\n",
       "  <thead>\n",
       "    <tr style=\"text-align: right;\">\n",
       "      <th></th>\n",
       "      <th>time_point_1</th>\n",
       "      <th>time_point_2</th>\n",
       "      <th>time_point_3</th>\n",
       "      <th>time_point_4</th>\n",
       "      <th>time_point_5</th>\n",
       "      <th>time_point_6</th>\n",
       "      <th>time_point_7</th>\n",
       "      <th>time_point_8</th>\n",
       "      <th>time_point_9</th>\n",
       "      <th>time_point_10</th>\n",
       "    </tr>\n",
       "  </thead>\n",
       "  <tbody>\n",
       "    <tr>\n",
       "      <th>NNNNNNN</th>\n",
       "      <td>18</td>\n",
       "      <td>18</td>\n",
       "      <td>11</td>\n",
       "      <td>3</td>\n",
       "      <td>2</td>\n",
       "      <td>2</td>\n",
       "      <td>2</td>\n",
       "      <td>2</td>\n",
       "      <td>2</td>\n",
       "      <td>2</td>\n",
       "    </tr>\n",
       "  </tbody>\n",
       "</table>\n",
       "</div>"
      ],
      "text/plain": [
       "         time_point_1  time_point_2  time_point_3  time_point_4  time_point_5  \\\n",
       "NNNNNNN            18            18            11             3             2   \n",
       "\n",
       "         time_point_6  time_point_7  time_point_8  time_point_9  time_point_10  \n",
       "NNNNNNN             2             2             2             2              2  "
      ]
     },
     "execution_count": 100,
     "metadata": {},
     "output_type": "execute_result"
    }
   ],
   "source": [
    "average"
   ]
  },
  {
   "cell_type": "code",
   "execution_count": 101,
   "metadata": {},
   "outputs": [],
   "source": [
    "# Append\n",
    "raw_with_average = average.append(raw)"
   ]
  },
  {
   "cell_type": "code",
   "execution_count": 83,
   "metadata": {},
   "outputs": [
    {
     "data": {
      "text/html": [
       "<div>\n",
       "<style scoped>\n",
       "    .dataframe tbody tr th:only-of-type {\n",
       "        vertical-align: middle;\n",
       "    }\n",
       "\n",
       "    .dataframe tbody tr th {\n",
       "        vertical-align: top;\n",
       "    }\n",
       "\n",
       "    .dataframe thead th {\n",
       "        text-align: right;\n",
       "    }\n",
       "</style>\n",
       "<table border=\"1\" class=\"dataframe\">\n",
       "  <thead>\n",
       "    <tr style=\"text-align: right;\">\n",
       "      <th></th>\n",
       "      <th>time_point_1</th>\n",
       "      <th>time_point_2</th>\n",
       "      <th>time_point_3</th>\n",
       "      <th>time_point_4</th>\n",
       "      <th>time_point_5</th>\n",
       "      <th>time_point_6</th>\n",
       "      <th>time_point_7</th>\n",
       "      <th>time_point_8</th>\n",
       "      <th>time_point_9</th>\n",
       "      <th>time_point_10</th>\n",
       "    </tr>\n",
       "  </thead>\n",
       "  <tbody>\n",
       "    <tr>\n",
       "      <th>NNNNNNN</th>\n",
       "      <td>18</td>\n",
       "      <td>18</td>\n",
       "      <td>11</td>\n",
       "      <td>3</td>\n",
       "      <td>2</td>\n",
       "      <td>2</td>\n",
       "      <td>2</td>\n",
       "      <td>2</td>\n",
       "      <td>2</td>\n",
       "      <td>2</td>\n",
       "    </tr>\n",
       "    <tr>\n",
       "      <th>ACGTTGTCC</th>\n",
       "      <td>73</td>\n",
       "      <td>51</td>\n",
       "      <td>242</td>\n",
       "      <td>421</td>\n",
       "      <td>576</td>\n",
       "      <td>748</td>\n",
       "      <td>990</td>\n",
       "      <td>4031</td>\n",
       "      <td>6936</td>\n",
       "      <td>6892</td>\n",
       "    </tr>\n",
       "    <tr>\n",
       "      <th>AAAAAGCCAAGGC</th>\n",
       "      <td>116</td>\n",
       "      <td>336</td>\n",
       "      <td>588</td>\n",
       "      <td>2089</td>\n",
       "      <td>3049</td>\n",
       "      <td>2415</td>\n",
       "      <td>2079</td>\n",
       "      <td>3291</td>\n",
       "      <td>2233</td>\n",
       "      <td>2494</td>\n",
       "    </tr>\n",
       "    <tr>\n",
       "      <th>TTTACTC</th>\n",
       "      <td>118</td>\n",
       "      <td>158</td>\n",
       "      <td>519</td>\n",
       "      <td>6284</td>\n",
       "      <td>438</td>\n",
       "      <td>2550</td>\n",
       "      <td>1295</td>\n",
       "      <td>2818</td>\n",
       "      <td>262</td>\n",
       "      <td>331</td>\n",
       "    </tr>\n",
       "    <tr>\n",
       "      <th>ACTATCACTATTACAAAA</th>\n",
       "      <td>86</td>\n",
       "      <td>282</td>\n",
       "      <td>1017</td>\n",
       "      <td>1583</td>\n",
       "      <td>1315</td>\n",
       "      <td>2628</td>\n",
       "      <td>1865</td>\n",
       "      <td>1079</td>\n",
       "      <td>689</td>\n",
       "      <td>707</td>\n",
       "    </tr>\n",
       "  </tbody>\n",
       "</table>\n",
       "</div>"
      ],
      "text/plain": [
       "                    time_point_1  time_point_2  time_point_3  time_point_4  \\\n",
       "NNNNNNN                       18            18            11             3   \n",
       "ACGTTGTCC                     73            51           242           421   \n",
       "AAAAAGCCAAGGC                116           336           588          2089   \n",
       "TTTACTC                      118           158           519          6284   \n",
       "ACTATCACTATTACAAAA            86           282          1017          1583   \n",
       "\n",
       "                    time_point_5  time_point_6  time_point_7  time_point_8  \\\n",
       "NNNNNNN                        2             2             2             2   \n",
       "ACGTTGTCC                    576           748           990          4031   \n",
       "AAAAAGCCAAGGC               3049          2415          2079          3291   \n",
       "TTTACTC                      438          2550          1295          2818   \n",
       "ACTATCACTATTACAAAA          1315          2628          1865          1079   \n",
       "\n",
       "                    time_point_9  time_point_10  \n",
       "NNNNNNN                        2              2  \n",
       "ACGTTGTCC                   6936           6892  \n",
       "AAAAAGCCAAGGC               2233           2494  \n",
       "TTTACTC                      262            331  \n",
       "ACTATCACTATTACAAAA           689            707  "
      ]
     },
     "execution_count": 83,
     "metadata": {},
     "output_type": "execute_result"
    }
   ],
   "source": [
    "raw_with_average.head()"
   ]
  },
  {
   "cell_type": "code",
   "execution_count": 102,
   "metadata": {},
   "outputs": [],
   "source": [
    "raw_with_average = raw_with_average.sort_index(key=lambda m: raw_with_average.sum(axis=1)[m],ascending=False)"
   ]
  },
  {
   "cell_type": "code",
   "execution_count": 103,
   "metadata": {},
   "outputs": [
    {
     "data": {
      "text/plain": [
       "<matplotlib.legend.Legend at 0x7f5bc8c17df0>"
      ]
     },
     "execution_count": 103,
     "metadata": {},
     "output_type": "execute_result"
    },
    {
     "data": {
      "image/png": "[encoded data removed]",
      "text/plain": [
       "<Figure size 432x288 with 1 Axes>"
      ]
     },
     "metadata": {
      "needs_background": "light"
     },
     "output_type": "display_data"
    }
   ],
   "source": [
    "# Plot some lineages\n",
    "raw_with_average.head(20).T.plot(style=\"-o\");\n",
    "pyplot.legend([])"
   ]
  },
  {
   "cell_type": "markdown",
   "metadata": {},
   "source": [
    "### Get the list of barcodes"
   ]
  },
  {
   "cell_type": "code",
   "execution_count": 104,
   "metadata": {},
   "outputs": [],
   "source": [
    "barcodes = raw_with_average.index.to_list()"
   ]
  },
  {
   "cell_type": "code",
   "execution_count": 105,
   "metadata": {},
   "outputs": [
    {
     "data": {
      "text/plain": [
       "['ACGTTGTCC',\n",
       " 'AAAAAGCCAAGGC',\n",
       " 'TTTACTC',\n",
       " 'ACTATCACTATTACAAAA',\n",
       " 'TGGACATCGGCC',\n",
       " 'TGGACAT',\n",
       " 'AAAATTAAAAATGACAAAA',\n",
       " 'ATCATCGGTGACGATTCC',\n",
       " 'CCGGACG',\n",
       " 'TTAGGGACACCTTCGCC']"
      ]
     },
     "execution_count": 105,
     "metadata": {},
     "output_type": "execute_result"
    }
   ],
   "source": [
    "barcodes[:10]"
   ]
  },
  {
   "cell_type": "markdown",
   "metadata": {},
   "source": [
    "### Cycle times (confirm this with Loukas)"
   ]
  },
  {
   "cell_type": "code",
   "execution_count": 108,
   "metadata": {},
   "outputs": [],
   "source": [
    "cycle_times = raw_with_average.columns.str.replace(\"time_point_\",\"\").astype(int).to_list()"
   ]
  },
  {
   "cell_type": "code",
   "execution_count": 109,
   "metadata": {},
   "outputs": [
    {
     "data": {
      "text/plain": [
       "[1, 2, 3, 4, 5, 6, 7, 8, 9, 10]"
      ]
     },
     "execution_count": 109,
     "metadata": {},
     "output_type": "execute_result"
    }
   ],
   "source": [
    "cycle_times"
   ]
  },
  {
   "cell_type": "markdown",
   "metadata": {},
   "source": [
    "## Setup the all_reads dict"
   ]
  },
  {
   "cell_type": "code",
   "execution_count": 110,
   "metadata": {},
   "outputs": [],
   "source": [
    "all_reads = {\"rep1\": raw_with_average.values}"
   ]
  },
  {
   "cell_type": "code",
   "execution_count": 111,
   "metadata": {},
   "outputs": [
    {
     "data": {
      "text/plain": [
       "(7223, 10)"
      ]
     },
     "execution_count": 111,
     "metadata": {},
     "output_type": "execute_result"
    }
   ],
   "source": [
    "all_reads['rep1'].shape"
   ]
  },
  {
   "cell_type": "code",
   "execution_count": 116,
   "metadata": {},
   "outputs": [
    {
     "name": "stdout",
     "output_type": "stream",
     "text": [
      "Multiplicative noise consistency checks\n",
      "\n",
      "rep1  inconsistent times:\n",
      "\n",
      "No clear inconsistencies\n",
      "\n"
     ]
    },
    {
     "name": "stderr",
     "output_type": "stream",
     "text": [
      "/home/grotec/Repositories/pybcfit/bcfit.py:224: RuntimeWarning: divide by zero encountered in power\n",
      "/home/grotec/Repositories/pybcfit/bcfit.py:224: RuntimeWarning: invalid value encountered in multiply\n",
      "/home/grotec/Repositories/pybcfit/bcfit.py:221: RuntimeWarning: divide by zero encountered in log\n",
      "/opt/anaconda3/envs/rq/lib/python3.8/site-packages/numpy/core/fromnumeric.py:3621: RuntimeWarning: Degrees of freedom <= 0 for slice\n",
      "/opt/anaconda3/envs/rq/lib/python3.8/site-packages/numpy/core/_methods.py:194: RuntimeWarning: invalid value encountered in true_divide\n",
      "/opt/anaconda3/envs/rq/lib/python3.8/site-packages/numpy/core/_methods.py:226: RuntimeWarning: invalid value encountered in double_scalars\n",
      "/home/grotec/Repositories/pybcfit/bcfit.py:220: RuntimeWarning: divide by zero encountered in log\n",
      "/home/grotec/Repositories/pybcfit/bcfit.py:222: RuntimeWarning: invalid value encountered in multiply\n",
      "/home/grotec/Repositories/pybcfit/bcfit.py:220: RuntimeWarning: invalid value encountered in double_scalars\n",
      "/opt/anaconda3/envs/rq/lib/python3.8/site-packages/numpy/core/fromnumeric.py:3372: RuntimeWarning: Mean of empty slice.\n",
      "/opt/anaconda3/envs/rq/lib/python3.8/site-packages/numpy/core/_methods.py:170: RuntimeWarning: invalid value encountered in double_scalars\n",
      "/home/grotec/Repositories/pybcfit/bcfit.py:383: RuntimeWarning: divide by zero encountered in log\n",
      "/home/grotec/Repositories/pybcfit/bcfit.py:383: RuntimeWarning: invalid value encountered in subtract\n"
     ]
    }
   ],
   "source": [
    "# Test run\n",
    "fitness_data = inferFitness(barcodes=barcodes,\n",
    "             cycleTimes=cycle_times,\n",
    "             allReads=all_reads,\n",
    "             lowCoverageThresh=0.0,\n",
    "             neutralBarcodes=[\"NNNNNNN\"],\n",
    "#              sparsityThresh=None,\n",
    "             \n",
    "             )"
   ]
  },
  {
   "cell_type": "code",
   "execution_count": 117,
   "metadata": {},
   "outputs": [],
   "source": [
    "fitness_data=fitness_data['rep1']"
   ]
  },
  {
   "cell_type": "code",
   "execution_count": 118,
   "metadata": {},
   "outputs": [
    {
     "data": {
      "text/plain": [
       "dict_keys(['neutralBarcodes', 'barcodes', 'timePointsUsed', 'kappas', 'multNoiseParams', 'meanFitness', 'allTimeFitness', 'allTimeErrors', 'aveFitness', 'aveError', 'zScores'])"
      ]
     },
     "execution_count": 118,
     "metadata": {},
     "output_type": "execute_result"
    }
   ],
   "source": [
    "fitness_data.keys()"
   ]
  },
  {
   "cell_type": "code",
   "execution_count": 119,
   "metadata": {},
   "outputs": [
    {
     "data": {
      "text/plain": [
       "array([], dtype='<U25')"
      ]
     },
     "execution_count": 119,
     "metadata": {},
     "output_type": "execute_result"
    }
   ],
   "source": [
    "fitness_data['neutralBarcodes']"
   ]
  },
  {
   "cell_type": "markdown",
   "metadata": {},
   "source": [
    "#### Are the most abundant lineages among the \"neutral\" barcodes?"
   ]
  },
  {
   "cell_type": "code",
   "execution_count": 120,
   "metadata": {},
   "outputs": [],
   "source": [
    "fitness_per_lineage = pandas.DataFrame(index=barcodes, columns=cycle_times[1:], data=fitness_data['allTimeFitness'])"
   ]
  },
  {
   "cell_type": "code",
   "execution_count": 121,
   "metadata": {},
   "outputs": [],
   "source": [
    "fitness_per_lineage.sort_index(key=lambda m: raw_with_average.sum(axis=1)[m],ascending=False,inplace=True)"
   ]
  },
  {
   "cell_type": "code",
   "execution_count": 122,
   "metadata": {},
   "outputs": [
    {
     "data": {
      "text/plain": [
       "<matplotlib.legend.Legend at 0x7f5bc8b35b20>"
      ]
     },
     "execution_count": 122,
     "metadata": {},
     "output_type": "execute_result"
    },
    {
     "data": {
      "image/png": "[encoded data removed]",
      "text/plain": [
       "<Figure size 432x288 with 2 Axes>"
      ]
     },
     "metadata": {
      "needs_background": "light"
     },
     "output_type": "display_data"
    }
   ],
   "source": [
    "fig, axs = pyplot.subplots(2,1)\n",
    "style=\"-o\"\n",
    "raw_with_average.head(20).T.plot(style=style, ax=axs[0])\n",
    "pyplot.legend([])\n",
    "fitness_per_lineage.head(20).T.plot(style=style, ax=axs[1]);\n",
    "pyplot.legend([])"
   ]
  },
  {
   "cell_type": "code",
   "execution_count": 123,
   "metadata": {},
   "outputs": [
    {
     "data": {
      "text/html": [
       "<div>\n",
       "<style scoped>\n",
       "    .dataframe tbody tr th:only-of-type {\n",
       "        vertical-align: middle;\n",
       "    }\n",
       "\n",
       "    .dataframe tbody tr th {\n",
       "        vertical-align: top;\n",
       "    }\n",
       "\n",
       "    .dataframe thead th {\n",
       "        text-align: right;\n",
       "    }\n",
       "</style>\n",
       "<table border=\"1\" class=\"dataframe\">\n",
       "  <thead>\n",
       "    <tr style=\"text-align: right;\">\n",
       "      <th></th>\n",
       "      <th>2</th>\n",
       "      <th>3</th>\n",
       "      <th>4</th>\n",
       "      <th>5</th>\n",
       "      <th>6</th>\n",
       "      <th>7</th>\n",
       "      <th>8</th>\n",
       "      <th>9</th>\n",
       "      <th>10</th>\n",
       "    </tr>\n",
       "  </thead>\n",
       "  <tbody>\n",
       "    <tr>\n",
       "      <th>ACGTTGTCC</th>\n",
       "      <td>NaN</td>\n",
       "      <td>NaN</td>\n",
       "      <td>NaN</td>\n",
       "      <td>NaN</td>\n",
       "      <td>NaN</td>\n",
       "      <td>NaN</td>\n",
       "      <td>NaN</td>\n",
       "      <td>NaN</td>\n",
       "      <td>NaN</td>\n",
       "    </tr>\n",
       "    <tr>\n",
       "      <th>AAAAAGCCAAGGC</th>\n",
       "      <td>NaN</td>\n",
       "      <td>NaN</td>\n",
       "      <td>NaN</td>\n",
       "      <td>NaN</td>\n",
       "      <td>NaN</td>\n",
       "      <td>NaN</td>\n",
       "      <td>NaN</td>\n",
       "      <td>NaN</td>\n",
       "      <td>NaN</td>\n",
       "    </tr>\n",
       "    <tr>\n",
       "      <th>TTTACTC</th>\n",
       "      <td>NaN</td>\n",
       "      <td>NaN</td>\n",
       "      <td>NaN</td>\n",
       "      <td>NaN</td>\n",
       "      <td>NaN</td>\n",
       "      <td>NaN</td>\n",
       "      <td>NaN</td>\n",
       "      <td>NaN</td>\n",
       "      <td>NaN</td>\n",
       "    </tr>\n",
       "    <tr>\n",
       "      <th>ACTATCACTATTACAAAA</th>\n",
       "      <td>NaN</td>\n",
       "      <td>NaN</td>\n",
       "      <td>NaN</td>\n",
       "      <td>NaN</td>\n",
       "      <td>NaN</td>\n",
       "      <td>NaN</td>\n",
       "      <td>NaN</td>\n",
       "      <td>NaN</td>\n",
       "      <td>NaN</td>\n",
       "    </tr>\n",
       "    <tr>\n",
       "      <th>TGGACATCGGCC</th>\n",
       "      <td>NaN</td>\n",
       "      <td>NaN</td>\n",
       "      <td>NaN</td>\n",
       "      <td>NaN</td>\n",
       "      <td>NaN</td>\n",
       "      <td>NaN</td>\n",
       "      <td>NaN</td>\n",
       "      <td>NaN</td>\n",
       "      <td>NaN</td>\n",
       "    </tr>\n",
       "    <tr>\n",
       "      <th>...</th>\n",
       "      <td>...</td>\n",
       "      <td>...</td>\n",
       "      <td>...</td>\n",
       "      <td>...</td>\n",
       "      <td>...</td>\n",
       "      <td>...</td>\n",
       "      <td>...</td>\n",
       "      <td>...</td>\n",
       "      <td>...</td>\n",
       "    </tr>\n",
       "    <tr>\n",
       "      <th>TAAGGATAAC</th>\n",
       "      <td>NaN</td>\n",
       "      <td>NaN</td>\n",
       "      <td>NaN</td>\n",
       "      <td>NaN</td>\n",
       "      <td>NaN</td>\n",
       "      <td>NaN</td>\n",
       "      <td>NaN</td>\n",
       "      <td>NaN</td>\n",
       "      <td>NaN</td>\n",
       "    </tr>\n",
       "    <tr>\n",
       "      <th>CGGTAATTAA</th>\n",
       "      <td>NaN</td>\n",
       "      <td>NaN</td>\n",
       "      <td>NaN</td>\n",
       "      <td>NaN</td>\n",
       "      <td>NaN</td>\n",
       "      <td>NaN</td>\n",
       "      <td>NaN</td>\n",
       "      <td>NaN</td>\n",
       "      <td>NaN</td>\n",
       "    </tr>\n",
       "    <tr>\n",
       "      <th>TCTCCGTTAG</th>\n",
       "      <td>NaN</td>\n",
       "      <td>NaN</td>\n",
       "      <td>NaN</td>\n",
       "      <td>NaN</td>\n",
       "      <td>NaN</td>\n",
       "      <td>NaN</td>\n",
       "      <td>NaN</td>\n",
       "      <td>NaN</td>\n",
       "      <td>NaN</td>\n",
       "    </tr>\n",
       "    <tr>\n",
       "      <th>TCTGGATTCG</th>\n",
       "      <td>NaN</td>\n",
       "      <td>NaN</td>\n",
       "      <td>NaN</td>\n",
       "      <td>NaN</td>\n",
       "      <td>NaN</td>\n",
       "      <td>NaN</td>\n",
       "      <td>NaN</td>\n",
       "      <td>NaN</td>\n",
       "      <td>NaN</td>\n",
       "    </tr>\n",
       "    <tr>\n",
       "      <th>TAGCTCAGCTCATGCATGGTGCCCG</th>\n",
       "      <td>NaN</td>\n",
       "      <td>NaN</td>\n",
       "      <td>NaN</td>\n",
       "      <td>NaN</td>\n",
       "      <td>NaN</td>\n",
       "      <td>NaN</td>\n",
       "      <td>NaN</td>\n",
       "      <td>NaN</td>\n",
       "      <td>NaN</td>\n",
       "    </tr>\n",
       "  </tbody>\n",
       "</table>\n",
       "<p>7223 rows × 9 columns</p>\n",
       "</div>"
      ],
      "text/plain": [
       "                           2   3   4   5   6   7   8   9   10\n",
       "ACGTTGTCC                 NaN NaN NaN NaN NaN NaN NaN NaN NaN\n",
       "AAAAAGCCAAGGC             NaN NaN NaN NaN NaN NaN NaN NaN NaN\n",
       "TTTACTC                   NaN NaN NaN NaN NaN NaN NaN NaN NaN\n",
       "ACTATCACTATTACAAAA        NaN NaN NaN NaN NaN NaN NaN NaN NaN\n",
       "TGGACATCGGCC              NaN NaN NaN NaN NaN NaN NaN NaN NaN\n",
       "...                        ..  ..  ..  ..  ..  ..  ..  ..  ..\n",
       "TAAGGATAAC                NaN NaN NaN NaN NaN NaN NaN NaN NaN\n",
       "CGGTAATTAA                NaN NaN NaN NaN NaN NaN NaN NaN NaN\n",
       "TCTCCGTTAG                NaN NaN NaN NaN NaN NaN NaN NaN NaN\n",
       "TCTGGATTCG                NaN NaN NaN NaN NaN NaN NaN NaN NaN\n",
       "TAGCTCAGCTCATGCATGGTGCCCG NaN NaN NaN NaN NaN NaN NaN NaN NaN\n",
       "\n",
       "[7223 rows x 9 columns]"
      ]
     },
     "execution_count": 123,
     "metadata": {},
     "output_type": "execute_result"
    }
   ],
   "source": [
    "fitness_per_lineage"
   ]
  },
  {
   "cell_type": "code",
   "execution_count": null,
   "metadata": {},
   "outputs": [],
   "source": []
  }
 ],
 "metadata": {
  "kernelspec": {
   "display_name": "barcoding",
   "language": "python",
   "name": "barcoding"
  },
  "language_info": {
   "codemirror_mode": {
    "name": "ipython",
    "version": 3
   },
   "file_extension": ".py",
   "mimetype": "text/x-python",
   "name": "python",
   "nbconvert_exporter": "python",
   "pygments_lexer": "ipython3",
   "version": "3.8.6"
  }
 },
 "nbformat": 4,
 "nbformat_minor": 4
}
